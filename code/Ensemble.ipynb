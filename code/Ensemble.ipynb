{
 "cells": [
  {
   "cell_type": "code",
   "execution_count": 4,
   "metadata": {
    "collapsed": true
   },
   "outputs": [],
   "source": [
    "from pandas import DataFrame, Series\n",
    "import pandas as pd"
   ]
  },
  {
   "cell_type": "markdown",
   "metadata": {},
   "source": [
    "+ rf0_prediction线上得分：0.78947；benchmark线上得分：0.78469；pred线上得分：0.78469；gbm0线上得分：0.78469  \n",
    "给予得分最高的rf0_prediction权重3，其他预测权重1  \n",
    "融合后的ensemble线上得分：0.79426"
   ]
  },
  {
   "cell_type": "code",
   "execution_count": 3,
   "metadata": {
    "collapsed": true
   },
   "outputs": [],
   "source": [
    "rf0_prediction = pd.read_csv('../result/rf0_prediction.csv')\n",
    "benchmark = pd.read_csv('../result/benchmark.csv')\n",
    "pred = pd.read_csv('../result/pred.csv')\n",
    "gbm0 = pd.read_csv('../result/gbm0.csv')"
   ]
  },
  {
   "cell_type": "code",
   "execution_count": 5,
   "metadata": {
    "collapsed": true
   },
   "outputs": [],
   "source": [
    "ensemble_score = (rf0_prediction.Survived * 3 + benchmark.Survived + pred.Survived + gbm0.Survived) / 6.\n",
    "ensemble_pred = (ensemble_score > .5).astype(int)"
   ]
  },
  {
   "cell_type": "code",
   "execution_count": 6,
   "metadata": {
    "collapsed": true
   },
   "outputs": [],
   "source": [
    "ensemble = DataFrame({'PassengerId': rf0_prediction.PassengerId, 'Survived': ensemble_pred})\n",
    "ensemble.to_csv('../result/ensemble.csv', index=None)"
   ]
  },
  {
   "cell_type": "markdown",
   "metadata": {},
   "source": [
    "+ rf_tuning_prediction线上得分：0.78947；benchmark线上得分：0.78469；pred线上得分：0.78469；gbm0线上得分：0.78469  \n",
    "给予得分最高的rf0_prediction权重3，其他预测权重1  \n",
    "融合后的ensemble1线上得分：0.79904"
   ]
  },
  {
   "cell_type": "code",
   "execution_count": 28,
   "metadata": {
    "collapsed": true
   },
   "outputs": [],
   "source": [
    "rf_tuning_prediction = pd.read_csv('../result/rf_tuning_prediction.csv')\n",
    "benchmark = pd.read_csv('../result/benchmark.csv')\n",
    "pred = pd.read_csv('../result/pred.csv')\n",
    "gbm0 = pd.read_csv('../result/gbm0.csv')"
   ]
  },
  {
   "cell_type": "code",
   "execution_count": 29,
   "metadata": {
    "collapsed": true
   },
   "outputs": [],
   "source": [
    "ensemble1_score = (rf_tuning_prediction.Survived * 3 + benchmark.Survived + pred.Survived + gbm0.Survived) / 6.\n",
    "ensemble1_pred = (ensemble1_score > .5).astype(int)"
   ]
  },
  {
   "cell_type": "code",
   "execution_count": 30,
   "metadata": {
    "collapsed": true
   },
   "outputs": [],
   "source": [
    "ensemble1 = DataFrame({'PassengerId': rf_tuning_prediction.PassengerId, 'Survived': ensemble1_pred})\n",
    "ensemble1.to_csv('../result/ensemble1.csv', index=None)"
   ]
  },
  {
   "cell_type": "markdown",
   "metadata": {},
   "source": [
    "+ ensemble1线上得分：0.79904；rf0_fs_prediction线上得分：0.79426；rf0_addsex_prediction线上得分：0.79426  \n",
    "给予相同的权重  \n",
    "融合后的ensemble2线上得分：0.79426"
   ]
  },
  {
   "cell_type": "code",
   "execution_count": 33,
   "metadata": {
    "collapsed": true
   },
   "outputs": [],
   "source": [
    "ensemble1 = pd.read_csv('../result/ensemble1.csv')\n",
    "rf0_fs_prediction = pd.read_csv('../result/rf0_fs_prediction.csv')\n",
    "rf0_addsex_prediction = pd.read_csv('../result/rf0_addsex_prediction.csv')"
   ]
  },
  {
   "cell_type": "code",
   "execution_count": 34,
   "metadata": {
    "collapsed": true
   },
   "outputs": [],
   "source": [
    "ensemble2_score = (ensemble1.Survived + rf0_fs_prediction.Survived + rf0_addsex_prediction.Survived) / 3.\n",
    "ensemble2_pred = (ensemble2_score > .5).astype(int)"
   ]
  },
  {
   "cell_type": "code",
   "execution_count": 35,
   "metadata": {
    "collapsed": true
   },
   "outputs": [],
   "source": [
    "ensemble2 = DataFrame({'PassengerId': ensemble1.PassengerId, 'Survived': ensemble2_pred})\n",
    "ensemble2.to_csv('./ensemble2.csv', index=None)"
   ]
  },
  {
   "cell_type": "markdown",
   "metadata": {},
   "source": [
    "+ ensemble线上得分：0.79904；ensemble1线上得分：0.79904；rf0_fs_prediction线上得分：0.79426  \n",
    "给予相同的权重  \n",
    "融合后的ensemble3线上得分：0.79904"
   ]
  },
  {
   "cell_type": "code",
   "execution_count": 36,
   "metadata": {
    "collapsed": true
   },
   "outputs": [],
   "source": [
    "ensemble = pd.read_csv('../result/ensemble.csv')\n",
    "ensemble1 = pd.read_csv('../result/ensemble1.csv')\n",
    "rf0_fs_prediction = pd.read_csv('../result/rf0_fs_prediction.csv')"
   ]
  },
  {
   "cell_type": "code",
   "execution_count": 37,
   "metadata": {
    "collapsed": true
   },
   "outputs": [],
   "source": [
    "ensemble3_score = (ensemble.Survived + ensemble1.Survived + rf0_fs_prediction.Survived) / 3.\n",
    "ensemble3_pred = (ensemble3_score > .5).astype(int)"
   ]
  },
  {
   "cell_type": "code",
   "execution_count": 38,
   "metadata": {
    "collapsed": true
   },
   "outputs": [],
   "source": [
    "ensemble3 = DataFrame({'PassengerId': ensemble1.PassengerId, 'Survived': ensemble3_pred})\n",
    "ensemble3.to_csv('../result/ensemble3.csv', index=None)"
   ]
  },
  {
   "cell_type": "markdown",
   "metadata": {},
   "source": [
    "## 继续融合模型已经没有提升准确率的空间了，最终预测正确率锁定为：0.79904"
   ]
  }
 ],
 "metadata": {
  "kernelspec": {
   "display_name": "Python 2",
   "language": "python",
   "name": "python2"
  },
  "language_info": {
   "codemirror_mode": {
    "name": "ipython",
    "version": 2
   },
   "file_extension": ".py",
   "mimetype": "text/x-python",
   "name": "python",
   "nbconvert_exporter": "python",
   "pygments_lexer": "ipython2",
   "version": "2.7.11"
  }
 },
 "nbformat": 4,
 "nbformat_minor": 0
}
