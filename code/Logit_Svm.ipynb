{
 "cells": [
  {
   "cell_type": "code",
   "execution_count": 1,
   "metadata": {
    "collapsed": true
   },
   "outputs": [],
   "source": [
    "import numpy as np\n",
    "from pandas import Series, DataFrame\n",
    "import pandas as pd\n",
    "import matplotlib.pyplot as plt\n",
    "import seaborn as sns\n",
    "import re\n",
    "%matplotlib inline"
   ]
  },
  {
   "cell_type": "code",
   "execution_count": 2,
   "metadata": {
    "collapsed": false,
    "scrolled": true
   },
   "outputs": [
    {
     "name": "stderr",
     "output_type": "stream",
     "text": [
      "C:\\Anaconda2\\lib\\site-packages\\sklearn\\cross_validation.py:44: DeprecationWarning: This module was deprecated in version 0.18 in favor of the model_selection module into which all the refactored classes and functions are moved. Also note that the interface of the new CV iterators are different from that of this module. This module will be removed in 0.20.\n",
      "  \"This module will be removed in 0.20.\", DeprecationWarning)\n"
     ]
    }
   ],
   "source": [
    "from sklearn.ensemble import RandomForestClassifier\n",
    "from sklearn.ensemble import GradientBoostingClassifier\n",
    "from xgboost import XGBClassifier\n",
    "from sklearn import model_selection\n",
    "from sklearn.model_selection import GridSearchCV\n",
    "from sklearn import preprocessing"
   ]
  },
  {
   "cell_type": "markdown",
   "metadata": {},
   "source": [
    "# 1 特征工程"
   ]
  },
  {
   "cell_type": "code",
   "execution_count": 31,
   "metadata": {
    "collapsed": true
   },
   "outputs": [],
   "source": [
    "# 将特征工程的所有步骤编写成函数，方便后续的数据处理\n",
    "def get_title(name):\n",
    "    # Use a regular expression to search for a title.  Titles always consist of capital and lowercase letters, and end with a period.\n",
    "    title_search = re.search(' ([A-Za-z]+)\\.', name)\n",
    "    # If the title exists, extract and return it.\n",
    "    if title_search:\n",
    "        return title_search.group(1)\n",
    "    return ''\n",
    "\n",
    "def featureEngineering(df):\n",
    "    # Fare列填补缺失值\n",
    "    Fare_fillna = preprocessing.Imputer(strategy='median')\n",
    "    Fare_fillna.fit(titanic[['Fare']])\n",
    "    df[['Fare']] = Fare_fillna.transform(df[['Fare']])\n",
    "    \n",
    "    # Pclass列独热编码\n",
    "    Pclass_encoder = preprocessing.OneHotEncoder(sparse=False)\n",
    "    Pclass_encoder.fit(titanic[['Pclass']])\n",
    "    Pclass = Pclass_encoder.transform(df[['Pclass']])\n",
    "    Pclass = DataFrame(Pclass)\n",
    "    Pclass.columns = ['Pclass_1', 'Pclass_2', 'Pclass_3']\n",
    "    df = pd.concat([df, Pclass], axis=1)\n",
    "    \n",
    "    # Sex列二值编码\n",
    "    Sex_encoder = preprocessing.LabelBinarizer()\n",
    "    Sex_encoder.fit(titanic[['Sex']])\n",
    "    Sex_encode = Sex_encoder.transform(df[['Sex']])\n",
    "    Sex_encode = DataFrame(Sex_encode)\n",
    "    Sex_encode.columns = ['Sex_encode']\n",
    "    df = pd.concat([df, Sex_encode], axis=1)\n",
    "    \n",
    "    # Age填补缺失值\n",
    "    Age_fillna = preprocessing.Imputer(strategy='median')\n",
    "    Age_fillna.fit(df[['Age']])\n",
    "    df[['Age']] = Age_fillna.transform(df[['Age']])\n",
    "    \n",
    "    # Cabin列根据是否缺失编码\n",
    "    df['Cabin_notnull'] = df['Cabin'].notnull().astype(int)\n",
    "    \n",
    "    # Embarked列独热编码\n",
    "    titanic.ix[titanic.Embarked.isnull(), 'Embarked'] = 'S'\n",
    "    Embarked_encoder = preprocessing.LabelBinarizer()\n",
    "    Embarked_encoder.fit(titanic.Embarked)\n",
    "    df.ix[df.Embarked.isnull(), 'Embarked'] = 'S'\n",
    "    Embarked = Embarked_encoder.transform(df.Embarked)\n",
    "    Embarked = DataFrame(Embarked)\n",
    "    Embarked.columns = ['Embarked_C', 'Embarked_Q', 'Embarked_S']\n",
    "    df = pd.concat([df, Embarked], axis=1)\n",
    "    \n",
    "    # Family_size列\n",
    "    df['Family_size'] = df['SibSp'] + df['Parch']\n",
    "    \n",
    "    # Name_len列\n",
    "    df['Name_len'] = df['Name'].map(len)\n",
    "    \n",
    "    # 根据年龄段进行编码\n",
    "    bins = [0, 12, 60, 100]\n",
    "    group_names = ['Age_Child', 'Age_Adult', 'Age_Elder']\n",
    "    age_cut = pd.get_dummies(pd.cut(df.Age, bins, labels=group_names)).astype(int)\n",
    "    df = pd.concat([df, age_cut], axis=1)\n",
    "    \n",
    "    # Title列\n",
    "    df_titles = df[\"Name\"].map(get_title)\n",
    "    df_titles = df_titles.fillna(\"Mr\")\n",
    "    \n",
    "    title_mapping = {\"Mr\": 1, \"Miss\": 2, \"Mrs\": 3, \"Master\": 4, \"Dr\": 5, \"Rev\": 6, \"Major\": 7, \"Col\": 7, \"Mlle\": 8,\n",
    "                     \"Mme\": 8, \"Don\": 9, \"Lady\": 10, \"Countess\": 10, \"Jonkheer\": 10, \"Sir\": 9, \"Capt\": 7, \"Ms\": 2}\n",
    "\n",
    "    df['Title'] = df_titles.map(title_mapping)\n",
    "    df['Title'] = df['Title'].fillna(1)\n",
    "    \n",
    "    # 儿童舱室\n",
    "    Child_Pclass = pd.get_dummies(df['Age_Child'] * df['Pclass']).astype(int)\n",
    "    Child_Pclass.columns = ['Not_Child', 'Child_1', 'Child_2', 'Child_3']\n",
    "    Child_Pclass = Child_Pclass.drop('Not_Child', axis=1)\n",
    "    df = pd.concat([df, Child_Pclass], axis=1)\n",
    "    \n",
    "    # 男性成年人舱室\n",
    "    MaleAdult_Pclass = pd.get_dummies(df['Age_Adult'] * df['Sex_encode'] * df['Pclass']).astype(int)\n",
    "    MaleAdult_Pclass.columns = ['Not_MaleAdult', 'Male_1', 'Male_2', 'Male_3']\n",
    "    MaleAdult_Pclass = MaleAdult_Pclass.drop('Not_MaleAdult', axis=1)\n",
    "    df = pd.concat([df, MaleAdult_Pclass], axis=1)\n",
    "    \n",
    "    # 女性成年人舱室\n",
    "    FemaleAdult_Pclass = pd.get_dummies(df['Age_Adult'] * (1-df['Sex_encode']) * df['Pclass']).astype(int)\n",
    "    FemaleAdult_Pclass.columns = ['Not_FemaleAdult', 'Female_1', 'Female_2', 'Female_3']\n",
    "    FemaleAdult_Pclass = FemaleAdult_Pclass.drop('Not_FemaleAdult', axis=1)\n",
    "    df = pd.concat([df, FemaleAdult_Pclass], axis=1)\n",
    "    \n",
    "    return df"
   ]
  },
  {
   "cell_type": "code",
   "execution_count": 32,
   "metadata": {
    "collapsed": true
   },
   "outputs": [],
   "source": [
    "titanic = pd.read_csv('./train.csv')\n",
    "titanic = featureEngineering(titanic)"
   ]
  },
  {
   "cell_type": "code",
   "execution_count": 33,
   "metadata": {
    "collapsed": true
   },
   "outputs": [],
   "source": [
    "test = pd.read_csv('./test.csv')\n",
    "test = featureEngineering(test)"
   ]
  },
  {
   "cell_type": "code",
   "execution_count": 34,
   "metadata": {
    "collapsed": true
   },
   "outputs": [],
   "source": [
    "all_predictors = [\n",
    "    'Age',\n",
    "    'SibSp',\n",
    "    'Parch',\n",
    "    'Fare',\n",
    "    'Pclass_1',\n",
    "    'Pclass_2',\n",
    "    'Pclass_3',\n",
    "    'Sex_encode',\n",
    "    'Cabin_notnull',\n",
    "    'Embarked_C',\n",
    "    'Embarked_Q',\n",
    "    'Embarked_S',\n",
    "    'Family_size',\n",
    "    'Name_len',\n",
    "    'Age_Child',\n",
    "    'Age_Adult',\n",
    "    'Age_Elder',\n",
    "    'Title',\n",
    "    'Child_1',\n",
    "    'Child_2',\n",
    "    'Child_3',\n",
    "    'Male_1',\n",
    "    'Male_2',\n",
    "    'Male_3',\n",
    "    'Female_1',\n",
    "    'Female_2',\n",
    "    'Female_3'\n",
    "]"
   ]
  },
  {
   "cell_type": "markdown",
   "metadata": {},
   "source": [
    "# 2 logistics模型"
   ]
  },
  {
   "cell_type": "code",
   "execution_count": 9,
   "metadata": {
    "collapsed": true
   },
   "outputs": [],
   "source": [
    "from sklearn.linear_model import LogisticRegression"
   ]
  },
  {
   "cell_type": "code",
   "execution_count": 11,
   "metadata": {
    "collapsed": true
   },
   "outputs": [],
   "source": [
    "from sklearn.model_selection import StratifiedKFold\n",
    "from sklearn.feature_selection import RFECV\n",
    "from sklearn.model_selection import cross_val_score"
   ]
  },
  {
   "cell_type": "code",
   "execution_count": 35,
   "metadata": {
    "collapsed": true
   },
   "outputs": [],
   "source": [
    "logit0 = LogisticRegression(random_state=1234, penalty='l2')"
   ]
  },
  {
   "cell_type": "code",
   "execution_count": 36,
   "metadata": {
    "collapsed": false
   },
   "outputs": [
    {
     "data": {
      "text/plain": [
       "RFECV(cv=StratifiedKFold(n_splits=5, random_state=None, shuffle=False),\n",
       "   estimator=LogisticRegression(C=1.0, class_weight=None, dual=False, fit_intercept=True,\n",
       "          intercept_scaling=1, max_iter=100, multi_class='ovr', n_jobs=1,\n",
       "          penalty='l2', random_state=1234, solver='liblinear', tol=0.0001,\n",
       "          verbose=0, warm_start=False),\n",
       "   n_jobs=1, scoring='accuracy', step=1, verbose=0)"
      ]
     },
     "execution_count": 36,
     "metadata": {},
     "output_type": "execute_result"
    }
   ],
   "source": [
    "logit0_rfecv = RFECV(estimator=logit0, step=1, cv=StratifiedKFold(5),\n",
    "              scoring='accuracy')\n",
    "logit0_rfecv.fit(titanic[all_predictors], titanic['Survived'])"
   ]
  },
  {
   "cell_type": "code",
   "execution_count": 37,
   "metadata": {
    "collapsed": false
   },
   "outputs": [
    {
     "data": {
      "image/png": "[encoded data removed]",
      "text/plain": [
       "<matplotlib.figure.Figure at 0xb59d4e0>"
      ]
     },
     "metadata": {},
     "output_type": "display_data"
    }
   ],
   "source": [
    "plt.figure()\n",
    "plt.xlabel(\"Number of features selected\")\n",
    "plt.ylabel(\"Cross validation score (nb of correct classifications)\")\n",
    "plt.plot(range(1, len(logit0_rfecv.grid_scores_) + 1), logit0_rfecv.grid_scores_);"
   ]
  },
  {
   "cell_type": "code",
   "execution_count": 38,
   "metadata": {
    "collapsed": false
   },
   "outputs": [
    {
     "data": {
      "text/plain": [
       "0.83167838563692931"
      ]
     },
     "execution_count": 38,
     "metadata": {},
     "output_type": "execute_result"
    }
   ],
   "source": [
    "logit0_rfecv.grid_scores_.max()"
   ]
  },
  {
   "cell_type": "markdown",
   "metadata": {},
   "source": [
    "### 当所有特征都纳入模型时，交叉验证结果最理想"
   ]
  },
  {
   "cell_type": "markdown",
   "metadata": {},
   "source": [
    "### 2.1 预测 "
   ]
  },
  {
   "cell_type": "code",
   "execution_count": 26,
   "metadata": {
    "collapsed": false
   },
   "outputs": [
    {
     "data": {
      "text/plain": [
       "0.83165955442733797"
      ]
     },
     "execution_count": 26,
     "metadata": {},
     "output_type": "execute_result"
    }
   ],
   "source": [
    "cross_val_score(logit0, titanic[all_predictors], titanic['Survived'], cv=5).mean()"
   ]
  },
  {
   "cell_type": "code",
   "execution_count": 39,
   "metadata": {
    "collapsed": false
   },
   "outputs": [],
   "source": [
    "logit0.fit(titanic[all_predictors], titanic['Survived'])\n",
    "logit0_prediction = logit0.predict(test[all_predictors])"
   ]
  },
  {
   "cell_type": "code",
   "execution_count": 40,
   "metadata": {
    "collapsed": true
   },
   "outputs": [],
   "source": [
    "logit0_submmison = pd.DataFrame({'PassengerId': test.PassengerId, 'Survived': logit0_prediction})\n",
    "logit0_submmison.to_csv('./logit0_prediction.csv', index=None)"
   ]
  },
  {
   "cell_type": "markdown",
   "metadata": {},
   "source": [
    "# 3 SVM模型"
   ]
  },
  {
   "cell_type": "code",
   "execution_count": 41,
   "metadata": {
    "collapsed": true
   },
   "outputs": [],
   "source": [
    "from sklearn.svm import SVC"
   ]
  },
  {
   "cell_type": "code",
   "execution_count": 42,
   "metadata": {
    "collapsed": true
   },
   "outputs": [],
   "source": [
    "from sklearn.model_selection import StratifiedKFold\n",
    "from sklearn.feature_selection import RFECV\n",
    "from sklearn.model_selection import cross_val_score"
   ]
  },
  {
   "cell_type": "code",
   "execution_count": 43,
   "metadata": {
    "collapsed": true
   },
   "outputs": [],
   "source": [
    "svc0 = SVC(random_state=1234)"
   ]
  },
  {
   "cell_type": "code",
   "execution_count": 45,
   "metadata": {
    "collapsed": false
   },
   "outputs": [
    {
     "data": {
      "text/plain": [
       "0.72290197805720791"
      ]
     },
     "execution_count": 45,
     "metadata": {},
     "output_type": "execute_result"
    }
   ],
   "source": [
    "cross_val_score(svc0, titanic[all_predictors], titanic['Survived'], cv=5).mean()"
   ]
  },
  {
   "cell_type": "markdown",
   "metadata": {},
   "source": [
    "### SVM模型效果并不理想，需要进一步特征选择和调参"
   ]
  }
 ],
 "metadata": {
  "kernelspec": {
   "display_name": "Python 2",
   "language": "python",
   "name": "python2"
  },
  "language_info": {
   "codemirror_mode": {
    "name": "ipython",
    "version": 2
   },
   "file_extension": ".py",
   "mimetype": "text/x-python",
   "name": "python",
   "nbconvert_exporter": "python",
   "pygments_lexer": "ipython2",
   "version": "2.7.11"
  }
 },
 "nbformat": 4,
 "nbformat_minor": 0
}
