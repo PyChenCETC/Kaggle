{
 "cells": [
  {
   "cell_type": "markdown",
   "metadata": {},
   "source": [
    "# 目录\n",
    "+ 1 载入必要的包和数据\n",
    "+ 2 特征工程后的模型\n",
    "    + 2.1 随机森林\n",
    "    + 2.2 GBM\n",
    "    + 2.3 XGBoost\n",
    "+ 3 特征选择\n",
    "    + 3.1 自编函数前向选择\n",
    "        + 9.1.1 随机森林\n",
    "        + 9.1.2 GBM\n",
    "        + 9.1.3 XGBoost\n",
    "    + 3.2 RFECV后向选择\n",
    "        + 9.2.1 随机森林\n",
    "        + 9.2.2 GBM\n",
    "        + 9.2.3 XGBoost    \n",
    "    + 3.3 在基线模型基础上，逐一加入或剔除新构建的特征\n",
    "        + 9.3.1 随机森林\n",
    "        + 9.3.2 GBM\n",
    "        + 9.3.3 XGBoost\n",
    "+ 4 学习曲线\n",
    "    + 11.1 随机森林\n",
    "    + 11.2 GBM\n",
    "    + 11.3 XGBoost\n",
    "+ 5 调参\n",
    "+ 6 过采样"
   ]
  },
  {
   "cell_type": "markdown",
   "metadata": {},
   "source": [
    "# 1 载入必要的包和数据"
   ]
  },
  {
   "cell_type": "code",
   "execution_count": 9,
   "metadata": {
    "collapsed": true
   },
   "outputs": [],
   "source": [
    "import numpy as np\n",
    "from pandas import Series, DataFrame\n",
    "import pandas as pd\n",
    "import matplotlib.pyplot as plt\n",
    "import seaborn as sns\n",
    "import re\n",
    "%matplotlib inline"
   ]
  },
  {
   "cell_type": "code",
   "execution_count": 10,
   "metadata": {
    "collapsed": false
   },
   "outputs": [],
   "source": [
    "from sklearn.ensemble import RandomForestClassifier\n",
    "from sklearn.ensemble import GradientBoostingClassifier\n",
    "from xgboost import XGBClassifier\n",
    "import xgboost as xgb\n",
    "from sklearn import model_selection\n",
    "from sklearn.model_selection import GridSearchCV\n",
    "from sklearn import preprocessing"
   ]
  },
  {
   "cell_type": "code",
   "execution_count": 34,
   "metadata": {
    "collapsed": false
   },
   "outputs": [
    {
     "data": {
      "text/plain": [
       "Index([u'PassengerId', u'Survived', u'Pclass', u'Name', u'Sex', u'Age',\n",
       "       u'SibSp', u'Parch', u'Ticket', u'Fare', u'Cabin', u'Embarked',\n",
       "       u'Pclass_1', u'Pclass_2', u'Pclass_3', u'Sex_encode', u'Cabin_notnull',\n",
       "       u'Embarked_C', u'Embarked_Q', u'Embarked_S', u'Family_size',\n",
       "       u'Name_len', u'Age_Child', u'Age_Adult', u'Age_Elder', u'Title',\n",
       "       u'Child_1', u'Child_2', u'Child_3', u'Male_1', u'Male_2', u'Male_3',\n",
       "       u'Female_1', u'Female_2', u'Female_3'],\n",
       "      dtype='object')"
      ]
     },
     "execution_count": 34,
     "metadata": {},
     "output_type": "execute_result"
    }
   ],
   "source": [
    "titanic = pd.read_csv('../data/train_preprocessed.csv')\n",
    "titanic.columns"
   ]
  },
  {
   "cell_type": "code",
   "execution_count": 66,
   "metadata": {
    "collapsed": false
   },
   "outputs": [
    {
     "data": {
      "text/plain": [
       "Index([u'PassengerId', u'Pclass', u'Name', u'Sex', u'Age', u'SibSp', u'Parch',\n",
       "       u'Ticket', u'Fare', u'Cabin', u'Embarked', u'Pclass_1', u'Pclass_2',\n",
       "       u'Pclass_3', u'Sex_encode', u'Cabin_notnull', u'Embarked_C',\n",
       "       u'Embarked_Q', u'Embarked_S', u'Family_size', u'Name_len', u'Age_Child',\n",
       "       u'Age_Adult', u'Age_Elder', u'Title', u'Child_1', u'Child_2',\n",
       "       u'Child_3', u'Male_1', u'Male_2', u'Male_3', u'Female_1', u'Female_2',\n",
       "       u'Female_3'],\n",
       "      dtype='object')"
      ]
     },
     "execution_count": 66,
     "metadata": {},
     "output_type": "execute_result"
    }
   ],
   "source": [
    "test = pd.read_csv('../data/test_preprocessed.csv')\n",
    "test.columns"
   ]
  },
  {
   "cell_type": "code",
   "execution_count": 35,
   "metadata": {
    "collapsed": false,
    "scrolled": false
   },
   "outputs": [
    {
     "data": {
      "text/plain": [
       "['Age',\n",
       " 'SibSp',\n",
       " 'Parch',\n",
       " 'Fare',\n",
       " 'Pclass_1',\n",
       " 'Pclass_2',\n",
       " 'Pclass_3',\n",
       " 'Sex_encode',\n",
       " 'Cabin_notnull',\n",
       " 'Embarked_C',\n",
       " 'Embarked_Q',\n",
       " 'Embarked_S',\n",
       " 'Family_size',\n",
       " 'Name_len',\n",
       " 'Age_Child',\n",
       " 'Age_Adult',\n",
       " 'Age_Elder',\n",
       " 'Title',\n",
       " 'Child_1',\n",
       " 'Child_2',\n",
       " 'Child_3',\n",
       " 'Male_1',\n",
       " 'Male_2',\n",
       " 'Male_3',\n",
       " 'Female_1',\n",
       " 'Female_2',\n",
       " 'Female_3']"
      ]
     },
     "execution_count": 35,
     "metadata": {},
     "output_type": "execute_result"
    }
   ],
   "source": [
    "all_predictors = [x for x in titanic.columns if x not in ['PassengerId', 'Survived', 'Pclass', 'Name', 'Sex', 'Ticket', 'Cabin', 'Embarked']]\n",
    "all_predictors"
   ]
  },
  {
   "cell_type": "markdown",
   "metadata": {},
   "source": [
    "# 2 建模"
   ]
  },
  {
   "cell_type": "code",
   "execution_count": 22,
   "metadata": {
    "collapsed": true
   },
   "outputs": [],
   "source": [
    "def modelfit(alg, dtrain, y, predictor, performCV=True, printFeatureImportance=True, cv_folds=5):\n",
    "    # 训练模型\n",
    "    alg.fit(dtrain[predictor], y)\n",
    "\n",
    "    if performCV:\n",
    "    # 交叉验证评分\n",
    "        cv_score = model_selection.cross_val_score(alg, dtrain[predictor], y, cv=cv_folds, scoring='accuracy')\n",
    "    \n",
    "    # 输出交叉验证结果\n",
    "        print \"CV Score : Mean - %.7g | Std - %.7g | Min - %.7g | Max - %.7g\" % (np.mean(cv_score),np.std(cv_score),np.min(cv_score),np.max(cv_score))\n",
    "\n",
    "    # 输出特征重要性评分\n",
    "    if printFeatureImportance:\n",
    "        feat_imp = pd.Series(alg.feature_importances_, predictor).sort_values(ascending=False)\n",
    "        feat_imp.plot(kind='bar', title='Feature Importances')\n",
    "        plt.ylabel('Feature Importance Score')"
   ]
  },
  {
   "cell_type": "markdown",
   "metadata": {},
   "source": [
    "## 2.1 随机森林"
   ]
  },
  {
   "cell_type": "code",
   "execution_count": 23,
   "metadata": {
    "collapsed": false
   },
   "outputs": [
    {
     "name": "stdout",
     "output_type": "stream",
     "text": [
      "CV Score : Mean - 0.8058795 | Std - 0.01520246 | Min - 0.7865169 | Max - 0.8305085\n"
     ]
    },
    {
     "data": {
      "image/png": "[encoded data removed]",
      "text/plain": [
       "<matplotlib.figure.Figure at 0xb0524e0>"
      ]
     },
     "metadata": {},
     "output_type": "display_data"
    }
   ],
   "source": [
    "rf0 = RandomForestClassifier(random_state=1234)\n",
    "modelfit(rf0, titanic, titanic['Survived'], all_predictors)"
   ]
  },
  {
   "cell_type": "markdown",
   "metadata": {},
   "source": [
    "## 2.2 GBM"
   ]
  },
  {
   "cell_type": "code",
   "execution_count": 24,
   "metadata": {
    "collapsed": false
   },
   "outputs": [
    {
     "name": "stdout",
     "output_type": "stream",
     "text": [
      "CV Score : Mean - 0.8215785 | Std - 0.0103846 | Min - 0.8089888 | Max - 0.8361582\n"
     ]
    },
    {
     "data": {
      "image/png": "[encoded data removed]",
      "text/plain": [
       "<matplotlib.figure.Figure at 0xb657198>"
      ]
     },
     "metadata": {},
     "output_type": "display_data"
    }
   ],
   "source": [
    "gbm0 = GradientBoostingClassifier(random_state=1234)\n",
    "modelfit(gbm0, titanic, titanic['Survived'], all_predictors)"
   ]
  },
  {
   "cell_type": "markdown",
   "metadata": {},
   "source": [
    "## 2.3 XGBoost"
   ]
  },
  {
   "cell_type": "code",
   "execution_count": 25,
   "metadata": {
    "collapsed": false
   },
   "outputs": [
    {
     "name": "stdout",
     "output_type": "stream",
     "text": [
      "CV Score : Mean - 0.8204422 | Std - 0.006648915 | Min - 0.8146067 | Max - 0.8314607\n"
     ]
    },
    {
     "data": {
      "image/png": "[encoded data removed]",
      "text/plain": [
       "<matplotlib.figure.Figure at 0xb9472e8>"
      ]
     },
     "metadata": {},
     "output_type": "display_data"
    }
   ],
   "source": [
    "xgb0 = XGBClassifier(seed=1234)\n",
    "modelfit(xgb0, titanic, titanic['Survived'], all_predictors)"
   ]
  },
  {
   "cell_type": "markdown",
   "metadata": {},
   "source": [
    "### 可见，运用构造的全部特征建立的模型，效果反而比基线模型更差，因而需要进行特征选择"
   ]
  },
  {
   "cell_type": "markdown",
   "metadata": {},
   "source": [
    "# 3 特征选择"
   ]
  },
  {
   "cell_type": "markdown",
   "metadata": {},
   "source": [
    "## 3.1 自编函数前向选择"
   ]
  },
  {
   "cell_type": "code",
   "execution_count": 44,
   "metadata": {
    "collapsed": true
   },
   "outputs": [],
   "source": [
    "def feature_socre(alg, dtrain, y, features, cv_folds=5):\n",
    "    alg.fit(dtrain[features], y)\n",
    "    cv_score = model_selection.cross_val_score(alg, dtrain[features], y, cv=cv_folds, scoring='accuracy')\n",
    "    return np.mean(cv_score)"
   ]
  },
  {
   "cell_type": "code",
   "execution_count": 45,
   "metadata": {
    "collapsed": true
   },
   "outputs": [],
   "source": [
    "def featureSelect(alg, dtrain, y, features):\n",
    "    # alg是选择的算法\n",
    "    # dtrain是训练集\n",
    "    # y是标签\n",
    "    # predictors是待选择的特征列表\n",
    "    \n",
    "    while len(features) != 0:\n",
    "        \n",
    "        feature_index = [] # 存放该轮依次被测试的特征\n",
    "        score = [] # 存放该轮依次被测试特征的重要性评分\n",
    "\n",
    "        for feature in features:\n",
    "            # 用于存放测试过的特征，并按顺序将特征存放进feature_index列表   \n",
    "            feature_index.append(feature)\n",
    "\n",
    "            # 将待测特征与已经被选中的特征合并，从而执行前向选择\n",
    "            feature_to_test = feature_set + [feature]\n",
    "\n",
    "            # 交叉验证评分，并按顺序将评分存入score列表\n",
    "            score.append(feature_socre(alg, titanic, titanic['Survived'], feature_to_test))\n",
    "\n",
    "        feature_selected = Series(score, feature_index).sort_values(ascending=False).index[0]\n",
    "        feature_selected_score = Series(score, feature_index).sort_values(ascending=False)[0]\n",
    "\n",
    "        feature_set.append(feature_selected)\n",
    "        feature_score.append([feature_selected, feature_selected_score])\n",
    "        \n",
    "        features.remove(feature_selected)"
   ]
  },
  {
   "cell_type": "markdown",
   "metadata": {},
   "source": [
    "### 3.1.1 随机森林"
   ]
  },
  {
   "cell_type": "code",
   "execution_count": 46,
   "metadata": {
    "collapsed": false,
    "scrolled": true
   },
   "outputs": [],
   "source": [
    "rf_select_predictors = [\n",
    "    'Age',\n",
    "    'SibSp',\n",
    "    'Parch',\n",
    "    'Fare',\n",
    "    'Pclass_1',\n",
    "    'Pclass_2',\n",
    "    'Pclass_3',\n",
    "    'Sex_encode',\n",
    "    'Cabin_notnull',\n",
    "    'Embarked_C',\n",
    "    'Embarked_Q',\n",
    "    'Embarked_S',\n",
    "    'Family_size',\n",
    "    'Name_len',\n",
    "    'Age_Child',\n",
    "    'Age_Adult',\n",
    "    'Age_Elder',\n",
    "    'Title',\n",
    "    'Child_1',\n",
    "    'Child_2',\n",
    "    'Child_3',\n",
    "    'Male_1',\n",
    "    'Male_2',\n",
    "    'Male_3',\n",
    "    'Female_1',\n",
    "    'Female_2',\n",
    "    'Female_3'\n",
    "]"
   ]
  },
  {
   "cell_type": "code",
   "execution_count": 47,
   "metadata": {
    "collapsed": false
   },
   "outputs": [],
   "source": [
    "feature_set = [] # 存放所有被选上的特征，最终所有特征都会进入该列表\n",
    "feature_score = [] # 存放所有被选上的特征及其重要性评分，最终所有特征都会进入该列表\n",
    "\n",
    "rf0 = RandomForestClassifier(random_state=1234)\n",
    "featureSelect(rf0, titanic, titanic['Survived'], rf_select_predictors)"
   ]
  },
  {
   "cell_type": "code",
   "execution_count": 48,
   "metadata": {
    "collapsed": false
   },
   "outputs": [
    {
     "data": {
      "text/html": [
       "<div>\n",
       "<table border=\"1\" class=\"dataframe\">\n",
       "  <thead>\n",
       "    <tr style=\"text-align: right;\">\n",
       "      <th></th>\n",
       "      <th>0</th>\n",
       "      <th>1</th>\n",
       "    </tr>\n",
       "  </thead>\n",
       "  <tbody>\n",
       "    <tr>\n",
       "      <th>0</th>\n",
       "      <td>Title</td>\n",
       "      <td>0.786759</td>\n",
       "    </tr>\n",
       "    <tr>\n",
       "      <th>1</th>\n",
       "      <td>Family_size</td>\n",
       "      <td>0.815948</td>\n",
       "    </tr>\n",
       "    <tr>\n",
       "      <th>2</th>\n",
       "      <td>Female_1</td>\n",
       "      <td>0.826035</td>\n",
       "    </tr>\n",
       "    <tr>\n",
       "      <th>3</th>\n",
       "      <td>Age_Child</td>\n",
       "      <td>0.827172</td>\n",
       "    </tr>\n",
       "    <tr>\n",
       "      <th>4</th>\n",
       "      <td>Child_1</td>\n",
       "      <td>0.827172</td>\n",
       "    </tr>\n",
       "    <tr>\n",
       "      <th>5</th>\n",
       "      <td>Sex_encode</td>\n",
       "      <td>0.826048</td>\n",
       "    </tr>\n",
       "    <tr>\n",
       "      <th>6</th>\n",
       "      <td>Age_Elder</td>\n",
       "      <td>0.826048</td>\n",
       "    </tr>\n",
       "    <tr>\n",
       "      <th>7</th>\n",
       "      <td>Male_3</td>\n",
       "      <td>0.824931</td>\n",
       "    </tr>\n",
       "    <tr>\n",
       "      <th>8</th>\n",
       "      <td>Age_Adult</td>\n",
       "      <td>0.824918</td>\n",
       "    </tr>\n",
       "    <tr>\n",
       "      <th>9</th>\n",
       "      <td>Parch</td>\n",
       "      <td>0.821560</td>\n",
       "    </tr>\n",
       "    <tr>\n",
       "      <th>10</th>\n",
       "      <td>Embarked_Q</td>\n",
       "      <td>0.828276</td>\n",
       "    </tr>\n",
       "    <tr>\n",
       "      <th>11</th>\n",
       "      <td>SibSp</td>\n",
       "      <td>0.826029</td>\n",
       "    </tr>\n",
       "    <tr>\n",
       "      <th>12</th>\n",
       "      <td>Child_2</td>\n",
       "      <td>0.823794</td>\n",
       "    </tr>\n",
       "    <tr>\n",
       "      <th>13</th>\n",
       "      <td>Child_3</td>\n",
       "      <td>0.821566</td>\n",
       "    </tr>\n",
       "    <tr>\n",
       "      <th>14</th>\n",
       "      <td>Cabin_notnull</td>\n",
       "      <td>0.819338</td>\n",
       "    </tr>\n",
       "    <tr>\n",
       "      <th>15</th>\n",
       "      <td>Male_2</td>\n",
       "      <td>0.820468</td>\n",
       "    </tr>\n",
       "    <tr>\n",
       "      <th>16</th>\n",
       "      <td>Male_1</td>\n",
       "      <td>0.821597</td>\n",
       "    </tr>\n",
       "    <tr>\n",
       "      <th>17</th>\n",
       "      <td>Female_3</td>\n",
       "      <td>0.820480</td>\n",
       "    </tr>\n",
       "    <tr>\n",
       "      <th>18</th>\n",
       "      <td>Female_2</td>\n",
       "      <td>0.818220</td>\n",
       "    </tr>\n",
       "    <tr>\n",
       "      <th>19</th>\n",
       "      <td>Fare</td>\n",
       "      <td>0.816004</td>\n",
       "    </tr>\n",
       "    <tr>\n",
       "      <th>20</th>\n",
       "      <td>Pclass_1</td>\n",
       "      <td>0.820480</td>\n",
       "    </tr>\n",
       "    <tr>\n",
       "      <th>21</th>\n",
       "      <td>Age</td>\n",
       "      <td>0.818252</td>\n",
       "    </tr>\n",
       "    <tr>\n",
       "      <th>22</th>\n",
       "      <td>Pclass_3</td>\n",
       "      <td>0.823882</td>\n",
       "    </tr>\n",
       "    <tr>\n",
       "      <th>23</th>\n",
       "      <td>Embarked_C</td>\n",
       "      <td>0.809275</td>\n",
       "    </tr>\n",
       "    <tr>\n",
       "      <th>24</th>\n",
       "      <td>Name_len</td>\n",
       "      <td>0.804775</td>\n",
       "    </tr>\n",
       "    <tr>\n",
       "      <th>25</th>\n",
       "      <td>Pclass_2</td>\n",
       "      <td>0.809194</td>\n",
       "    </tr>\n",
       "    <tr>\n",
       "      <th>26</th>\n",
       "      <td>Embarked_S</td>\n",
       "      <td>0.808120</td>\n",
       "    </tr>\n",
       "  </tbody>\n",
       "</table>\n",
       "</div>"
      ],
      "text/plain": [
       "                0         1\n",
       "0           Title  0.786759\n",
       "1     Family_size  0.815948\n",
       "2        Female_1  0.826035\n",
       "3       Age_Child  0.827172\n",
       "4         Child_1  0.827172\n",
       "5      Sex_encode  0.826048\n",
       "6       Age_Elder  0.826048\n",
       "7          Male_3  0.824931\n",
       "8       Age_Adult  0.824918\n",
       "9           Parch  0.821560\n",
       "10     Embarked_Q  0.828276\n",
       "11          SibSp  0.826029\n",
       "12        Child_2  0.823794\n",
       "13        Child_3  0.821566\n",
       "14  Cabin_notnull  0.819338\n",
       "15         Male_2  0.820468\n",
       "16         Male_1  0.821597\n",
       "17       Female_3  0.820480\n",
       "18       Female_2  0.818220\n",
       "19           Fare  0.816004\n",
       "20       Pclass_1  0.820480\n",
       "21            Age  0.818252\n",
       "22       Pclass_3  0.823882\n",
       "23     Embarked_C  0.809275\n",
       "24       Name_len  0.804775\n",
       "25       Pclass_2  0.809194\n",
       "26     Embarked_S  0.808120"
      ]
     },
     "execution_count": 48,
     "metadata": {},
     "output_type": "execute_result"
    }
   ],
   "source": [
    "DataFrame(feature_score)"
   ]
  },
  {
   "cell_type": "markdown",
   "metadata": {},
   "source": [
    "### 交叉验证最高得分为0.828276"
   ]
  },
  {
   "cell_type": "markdown",
   "metadata": {},
   "source": [
    "+ 预测"
   ]
  },
  {
   "cell_type": "code",
   "execution_count": 90,
   "metadata": {
    "collapsed": true
   },
   "outputs": [],
   "source": [
    "rf0_fs_predictors = ['Title',\n",
    "                     'Family_size',\n",
    "                     'Female_1',\n",
    "                     'Age_Child',\n",
    "                     'Child_1',\n",
    "                     'Sex_encode',\n",
    "                     'Age_Elder',\n",
    "                     'Male_3',\n",
    "                     'Age_Adult',\n",
    "                     'Parch',\n",
    "                     'Embarked_Q'\n",
    "                    ]"
   ]
  },
  {
   "cell_type": "code",
   "execution_count": 93,
   "metadata": {
    "collapsed": false
   },
   "outputs": [],
   "source": [
    "rf0_fs = RandomForestClassifier(random_state=1234)\n",
    "rf0_fs.fit(titanic[rf0_fs_predictors], titanic['Survived'])\n",
    "rf0_fs_prediction = rf0_fs.predict(test[rf0_fs_predictors])"
   ]
  },
  {
   "cell_type": "code",
   "execution_count": 94,
   "metadata": {
    "collapsed": false
   },
   "outputs": [],
   "source": [
    "rf0_fs_submmison = pd.DataFrame({'PassengerId': test.PassengerId, 'Survived': rf0_fs_prediction})\n",
    "rf0_fs_submmison.to_csv('../result/rf0_fs_prediction.csv', index=None)"
   ]
  },
  {
   "cell_type": "markdown",
   "metadata": {},
   "source": [
    "### 3.1.2 GBM"
   ]
  },
  {
   "cell_type": "code",
   "execution_count": 49,
   "metadata": {
    "collapsed": false,
    "scrolled": true
   },
   "outputs": [],
   "source": [
    "gbm_select_predictors = [\n",
    "    'Age',\n",
    "    'SibSp',\n",
    "    'Parch',\n",
    "    'Fare',\n",
    "    'Pclass_1',\n",
    "    'Pclass_2',\n",
    "    'Pclass_3',\n",
    "    'Sex_encode',\n",
    "    'Cabin_notnull',\n",
    "    'Embarked_C',\n",
    "    'Embarked_Q',\n",
    "    'Embarked_S',\n",
    "    'Family_size',\n",
    "    'Name_len',\n",
    "    'Age_Child',\n",
    "    'Age_Adult',\n",
    "    'Age_Elder',\n",
    "    'Title',\n",
    "    'Child_1',\n",
    "    'Child_2',\n",
    "    'Child_3',\n",
    "    'Male_1',\n",
    "    'Male_2',\n",
    "    'Male_3',\n",
    "    'Female_1',\n",
    "    'Female_2',\n",
    "    'Female_3'\n",
    "]"
   ]
  },
  {
   "cell_type": "code",
   "execution_count": 50,
   "metadata": {
    "collapsed": false
   },
   "outputs": [],
   "source": [
    "feature_set = [] # 存放所有被选上的特征，最终所有特征都会进入该列表\n",
    "feature_score = [] # 存放所有被选上的特征及其重要性评分，最终所有特征都会进入该列表\n",
    "\n",
    "gbm0 = GradientBoostingClassifier(random_state=1234)\n",
    "featureSelect(gbm0, titanic, titanic['Survived'], gbm_select_predictors)"
   ]
  },
  {
   "cell_type": "code",
   "execution_count": 51,
   "metadata": {
    "collapsed": false
   },
   "outputs": [
    {
     "data": {
      "text/html": [
       "<div>\n",
       "<table border=\"1\" class=\"dataframe\">\n",
       "  <thead>\n",
       "    <tr style=\"text-align: right;\">\n",
       "      <th></th>\n",
       "      <th>0</th>\n",
       "      <th>1</th>\n",
       "    </tr>\n",
       "  </thead>\n",
       "  <tbody>\n",
       "    <tr>\n",
       "      <th>0</th>\n",
       "      <td>Title</td>\n",
       "      <td>0.786759</td>\n",
       "    </tr>\n",
       "    <tr>\n",
       "      <th>1</th>\n",
       "      <td>SibSp</td>\n",
       "      <td>0.814818</td>\n",
       "    </tr>\n",
       "    <tr>\n",
       "      <th>2</th>\n",
       "      <td>Cabin_notnull</td>\n",
       "      <td>0.821566</td>\n",
       "    </tr>\n",
       "    <tr>\n",
       "      <th>3</th>\n",
       "      <td>Family_size</td>\n",
       "      <td>0.830561</td>\n",
       "    </tr>\n",
       "    <tr>\n",
       "      <th>4</th>\n",
       "      <td>Embarked_C</td>\n",
       "      <td>0.835030</td>\n",
       "    </tr>\n",
       "    <tr>\n",
       "      <th>5</th>\n",
       "      <td>Sex_encode</td>\n",
       "      <td>0.836160</td>\n",
       "    </tr>\n",
       "    <tr>\n",
       "      <th>6</th>\n",
       "      <td>Female_2</td>\n",
       "      <td>0.836167</td>\n",
       "    </tr>\n",
       "    <tr>\n",
       "      <th>7</th>\n",
       "      <td>Child_1</td>\n",
       "      <td>0.836167</td>\n",
       "    </tr>\n",
       "    <tr>\n",
       "      <th>8</th>\n",
       "      <td>Male_3</td>\n",
       "      <td>0.836179</td>\n",
       "    </tr>\n",
       "    <tr>\n",
       "      <th>9</th>\n",
       "      <td>Pclass_1</td>\n",
       "      <td>0.835049</td>\n",
       "    </tr>\n",
       "    <tr>\n",
       "      <th>10</th>\n",
       "      <td>Male_2</td>\n",
       "      <td>0.830580</td>\n",
       "    </tr>\n",
       "    <tr>\n",
       "      <th>11</th>\n",
       "      <td>Parch</td>\n",
       "      <td>0.830561</td>\n",
       "    </tr>\n",
       "    <tr>\n",
       "      <th>12</th>\n",
       "      <td>Embarked_Q</td>\n",
       "      <td>0.830555</td>\n",
       "    </tr>\n",
       "    <tr>\n",
       "      <th>13</th>\n",
       "      <td>Female_3</td>\n",
       "      <td>0.828327</td>\n",
       "    </tr>\n",
       "    <tr>\n",
       "      <th>14</th>\n",
       "      <td>Age_Elder</td>\n",
       "      <td>0.826092</td>\n",
       "    </tr>\n",
       "    <tr>\n",
       "      <th>15</th>\n",
       "      <td>Fare</td>\n",
       "      <td>0.831710</td>\n",
       "    </tr>\n",
       "    <tr>\n",
       "      <th>16</th>\n",
       "      <td>Age</td>\n",
       "      <td>0.828314</td>\n",
       "    </tr>\n",
       "    <tr>\n",
       "      <th>17</th>\n",
       "      <td>Age_Adult</td>\n",
       "      <td>0.830548</td>\n",
       "    </tr>\n",
       "    <tr>\n",
       "      <th>18</th>\n",
       "      <td>Age_Child</td>\n",
       "      <td>0.829437</td>\n",
       "    </tr>\n",
       "    <tr>\n",
       "      <th>19</th>\n",
       "      <td>Child_2</td>\n",
       "      <td>0.828307</td>\n",
       "    </tr>\n",
       "    <tr>\n",
       "      <th>20</th>\n",
       "      <td>Pclass_2</td>\n",
       "      <td>0.832796</td>\n",
       "    </tr>\n",
       "    <tr>\n",
       "      <th>21</th>\n",
       "      <td>Child_3</td>\n",
       "      <td>0.830574</td>\n",
       "    </tr>\n",
       "    <tr>\n",
       "      <th>22</th>\n",
       "      <td>Embarked_S</td>\n",
       "      <td>0.835024</td>\n",
       "    </tr>\n",
       "    <tr>\n",
       "      <th>23</th>\n",
       "      <td>Male_1</td>\n",
       "      <td>0.831672</td>\n",
       "    </tr>\n",
       "    <tr>\n",
       "      <th>24</th>\n",
       "      <td>Female_1</td>\n",
       "      <td>0.828301</td>\n",
       "    </tr>\n",
       "    <tr>\n",
       "      <th>25</th>\n",
       "      <td>Name_len</td>\n",
       "      <td>0.824930</td>\n",
       "    </tr>\n",
       "    <tr>\n",
       "      <th>26</th>\n",
       "      <td>Pclass_3</td>\n",
       "      <td>0.819338</td>\n",
       "    </tr>\n",
       "  </tbody>\n",
       "</table>\n",
       "</div>"
      ],
      "text/plain": [
       "                0         1\n",
       "0           Title  0.786759\n",
       "1           SibSp  0.814818\n",
       "2   Cabin_notnull  0.821566\n",
       "3     Family_size  0.830561\n",
       "4      Embarked_C  0.835030\n",
       "5      Sex_encode  0.836160\n",
       "6        Female_2  0.836167\n",
       "7         Child_1  0.836167\n",
       "8          Male_3  0.836179\n",
       "9        Pclass_1  0.835049\n",
       "10         Male_2  0.830580\n",
       "11          Parch  0.830561\n",
       "12     Embarked_Q  0.830555\n",
       "13       Female_3  0.828327\n",
       "14      Age_Elder  0.826092\n",
       "15           Fare  0.831710\n",
       "16            Age  0.828314\n",
       "17      Age_Adult  0.830548\n",
       "18      Age_Child  0.829437\n",
       "19        Child_2  0.828307\n",
       "20       Pclass_2  0.832796\n",
       "21        Child_3  0.830574\n",
       "22     Embarked_S  0.835024\n",
       "23         Male_1  0.831672\n",
       "24       Female_1  0.828301\n",
       "25       Name_len  0.824930\n",
       "26       Pclass_3  0.819338"
      ]
     },
     "execution_count": 51,
     "metadata": {},
     "output_type": "execute_result"
    }
   ],
   "source": [
    "DataFrame(feature_score)"
   ]
  },
  {
   "cell_type": "markdown",
   "metadata": {},
   "source": [
    "### 交叉验证最高得分为0.836179"
   ]
  },
  {
   "cell_type": "markdown",
   "metadata": {},
   "source": [
    "+ 预测"
   ]
  },
  {
   "cell_type": "code",
   "execution_count": 96,
   "metadata": {
    "collapsed": true
   },
   "outputs": [],
   "source": [
    "gbm0_fs_predictors = ['Title',\n",
    "                     'SibSp',\n",
    "                     'Cabin_notnull',\n",
    "                     'Family_size',\n",
    "                     'Embarked_C',\n",
    "                     'Sex_encode',\n",
    "                     'Female_2',\n",
    "                     'Child_1',\n",
    "                     'Male_3'\n",
    "                    ]"
   ]
  },
  {
   "cell_type": "code",
   "execution_count": 97,
   "metadata": {
    "collapsed": false
   },
   "outputs": [],
   "source": [
    "gbm0_fs = GradientBoostingClassifier(random_state=1234)\n",
    "gbm0_fs.fit(titanic[gbm0_fs_predictors], titanic['Survived'])\n",
    "gbm0_fs_prediction = gbm0_fs.predict(test[gbm0_fs_predictors])"
   ]
  },
  {
   "cell_type": "code",
   "execution_count": 98,
   "metadata": {
    "collapsed": false
   },
   "outputs": [],
   "source": [
    "gbm0_fs_submmison = pd.DataFrame({'PassengerId': test.PassengerId, 'Survived': gbm0_fs_prediction})\n",
    "gbm0_fs_submmison.to_csv('../result/gbm0_fs_prediction.csv', index=None)"
   ]
  },
  {
   "cell_type": "markdown",
   "metadata": {},
   "source": [
    "### 3.1.3 XGBoost"
   ]
  },
  {
   "cell_type": "code",
   "execution_count": 52,
   "metadata": {
    "collapsed": false,
    "scrolled": true
   },
   "outputs": [],
   "source": [
    "xgb_select_predictors = [\n",
    "    'Age',\n",
    "    'SibSp',\n",
    "    'Parch',\n",
    "    'Fare',\n",
    "    'Pclass_1',\n",
    "    'Pclass_2',\n",
    "    'Pclass_3',\n",
    "    'Sex_encode',\n",
    "    'Cabin_notnull',\n",
    "    'Embarked_C',\n",
    "    'Embarked_Q',\n",
    "    'Embarked_S',\n",
    "    'Family_size',\n",
    "    'Name_len',\n",
    "    'Age_Child',\n",
    "    'Age_Adult',\n",
    "    'Age_Elder',\n",
    "    'Title',\n",
    "    'Child_1',\n",
    "    'Child_2',\n",
    "    'Child_3',\n",
    "    'Male_1',\n",
    "    'Male_2',\n",
    "    'Male_3',\n",
    "    'Female_1',\n",
    "    'Female_2',\n",
    "    'Female_3'\n",
    "]"
   ]
  },
  {
   "cell_type": "code",
   "execution_count": 53,
   "metadata": {
    "collapsed": false
   },
   "outputs": [],
   "source": [
    "feature_set = [] # 存放所有被选上的特征，最终所有特征都会进入该列表\n",
    "feature_score = [] # 存放所有被选上的特征及其重要性评分，最终所有特征都会进入该列表\n",
    "\n",
    "xgb0 = XGBClassifier(seed=1234)\n",
    "featureSelect(xgb0, titanic, titanic['Survived'], xgb_select_predictors)"
   ]
  },
  {
   "cell_type": "code",
   "execution_count": 54,
   "metadata": {
    "collapsed": false,
    "scrolled": false
   },
   "outputs": [
    {
     "data": {
      "text/html": [
       "<div>\n",
       "<table border=\"1\" class=\"dataframe\">\n",
       "  <thead>\n",
       "    <tr style=\"text-align: right;\">\n",
       "      <th></th>\n",
       "      <th>0</th>\n",
       "      <th>1</th>\n",
       "    </tr>\n",
       "  </thead>\n",
       "  <tbody>\n",
       "    <tr>\n",
       "      <th>0</th>\n",
       "      <td>Title</td>\n",
       "      <td>0.789006</td>\n",
       "    </tr>\n",
       "    <tr>\n",
       "      <th>1</th>\n",
       "      <td>Family_size</td>\n",
       "      <td>0.821560</td>\n",
       "    </tr>\n",
       "    <tr>\n",
       "      <th>2</th>\n",
       "      <td>Cabin_notnull</td>\n",
       "      <td>0.832783</td>\n",
       "    </tr>\n",
       "    <tr>\n",
       "      <th>3</th>\n",
       "      <td>Age_Elder</td>\n",
       "      <td>0.833907</td>\n",
       "    </tr>\n",
       "    <tr>\n",
       "      <th>4</th>\n",
       "      <td>Pclass_3</td>\n",
       "      <td>0.836160</td>\n",
       "    </tr>\n",
       "    <tr>\n",
       "      <th>5</th>\n",
       "      <td>Child_1</td>\n",
       "      <td>0.836160</td>\n",
       "    </tr>\n",
       "    <tr>\n",
       "      <th>6</th>\n",
       "      <td>Pclass_1</td>\n",
       "      <td>0.836160</td>\n",
       "    </tr>\n",
       "    <tr>\n",
       "      <th>7</th>\n",
       "      <td>Child_3</td>\n",
       "      <td>0.837278</td>\n",
       "    </tr>\n",
       "    <tr>\n",
       "      <th>8</th>\n",
       "      <td>Male_3</td>\n",
       "      <td>0.837278</td>\n",
       "    </tr>\n",
       "    <tr>\n",
       "      <th>9</th>\n",
       "      <td>Child_2</td>\n",
       "      <td>0.837278</td>\n",
       "    </tr>\n",
       "    <tr>\n",
       "      <th>10</th>\n",
       "      <td>Pclass_2</td>\n",
       "      <td>0.835043</td>\n",
       "    </tr>\n",
       "    <tr>\n",
       "      <th>11</th>\n",
       "      <td>Female_1</td>\n",
       "      <td>0.831672</td>\n",
       "    </tr>\n",
       "    <tr>\n",
       "      <th>12</th>\n",
       "      <td>Embarked_Q</td>\n",
       "      <td>0.832796</td>\n",
       "    </tr>\n",
       "    <tr>\n",
       "      <th>13</th>\n",
       "      <td>Age_Child</td>\n",
       "      <td>0.835043</td>\n",
       "    </tr>\n",
       "    <tr>\n",
       "      <th>14</th>\n",
       "      <td>Male_2</td>\n",
       "      <td>0.835043</td>\n",
       "    </tr>\n",
       "    <tr>\n",
       "      <th>15</th>\n",
       "      <td>Age_Adult</td>\n",
       "      <td>0.835043</td>\n",
       "    </tr>\n",
       "    <tr>\n",
       "      <th>16</th>\n",
       "      <td>Sex_encode</td>\n",
       "      <td>0.832783</td>\n",
       "    </tr>\n",
       "    <tr>\n",
       "      <th>17</th>\n",
       "      <td>Male_1</td>\n",
       "      <td>0.829457</td>\n",
       "    </tr>\n",
       "    <tr>\n",
       "      <th>18</th>\n",
       "      <td>Female_2</td>\n",
       "      <td>0.828339</td>\n",
       "    </tr>\n",
       "    <tr>\n",
       "      <th>19</th>\n",
       "      <td>Embarked_S</td>\n",
       "      <td>0.832834</td>\n",
       "    </tr>\n",
       "    <tr>\n",
       "      <th>20</th>\n",
       "      <td>Age</td>\n",
       "      <td>0.833901</td>\n",
       "    </tr>\n",
       "    <tr>\n",
       "      <th>21</th>\n",
       "      <td>SibSp</td>\n",
       "      <td>0.836179</td>\n",
       "    </tr>\n",
       "    <tr>\n",
       "      <th>22</th>\n",
       "      <td>Parch</td>\n",
       "      <td>0.838427</td>\n",
       "    </tr>\n",
       "    <tr>\n",
       "      <th>23</th>\n",
       "      <td>Female_3</td>\n",
       "      <td>0.833926</td>\n",
       "    </tr>\n",
       "    <tr>\n",
       "      <th>24</th>\n",
       "      <td>Embarked_C</td>\n",
       "      <td>0.833945</td>\n",
       "    </tr>\n",
       "    <tr>\n",
       "      <th>25</th>\n",
       "      <td>Name_len</td>\n",
       "      <td>0.830555</td>\n",
       "    </tr>\n",
       "    <tr>\n",
       "      <th>26</th>\n",
       "      <td>Fare</td>\n",
       "      <td>0.820442</td>\n",
       "    </tr>\n",
       "  </tbody>\n",
       "</table>\n",
       "</div>"
      ],
      "text/plain": [
       "                0         1\n",
       "0           Title  0.789006\n",
       "1     Family_size  0.821560\n",
       "2   Cabin_notnull  0.832783\n",
       "3       Age_Elder  0.833907\n",
       "4        Pclass_3  0.836160\n",
       "5         Child_1  0.836160\n",
       "6        Pclass_1  0.836160\n",
       "7         Child_3  0.837278\n",
       "8          Male_3  0.837278\n",
       "9         Child_2  0.837278\n",
       "10       Pclass_2  0.835043\n",
       "11       Female_1  0.831672\n",
       "12     Embarked_Q  0.832796\n",
       "13      Age_Child  0.835043\n",
       "14         Male_2  0.835043\n",
       "15      Age_Adult  0.835043\n",
       "16     Sex_encode  0.832783\n",
       "17         Male_1  0.829457\n",
       "18       Female_2  0.828339\n",
       "19     Embarked_S  0.832834\n",
       "20            Age  0.833901\n",
       "21          SibSp  0.836179\n",
       "22          Parch  0.838427\n",
       "23       Female_3  0.833926\n",
       "24     Embarked_C  0.833945\n",
       "25       Name_len  0.830555\n",
       "26           Fare  0.820442"
      ]
     },
     "execution_count": 54,
     "metadata": {},
     "output_type": "execute_result"
    }
   ],
   "source": [
    "DataFrame(feature_score)"
   ]
  },
  {
   "cell_type": "markdown",
   "metadata": {},
   "source": [
    "### 交叉验证最高得分为0.837278"
   ]
  },
  {
   "cell_type": "markdown",
   "metadata": {},
   "source": [
    "+ 预测"
   ]
  },
  {
   "cell_type": "code",
   "execution_count": 99,
   "metadata": {
    "collapsed": true
   },
   "outputs": [],
   "source": [
    "xgb0_fs_predictors = ['Title',\n",
    "                     'Family_size',\n",
    "                     'Cabin_notnull',\n",
    "                     'Age_Elder',\n",
    "                     'Pclass_3',\n",
    "                     'Child_1',\n",
    "                     'Pclass_1',\n",
    "                     'Child_3'\n",
    "                    ]"
   ]
  },
  {
   "cell_type": "code",
   "execution_count": 101,
   "metadata": {
    "collapsed": false
   },
   "outputs": [],
   "source": [
    "xgb0_fs = XGBClassifier(seed=1234)\n",
    "xgb0_fs.fit(titanic[xgb0_fs_predictors], titanic['Survived'])\n",
    "xgb0_fs_prediction = xgb0_fs.predict(test[xgb0_fs_predictors])"
   ]
  },
  {
   "cell_type": "code",
   "execution_count": 102,
   "metadata": {
    "collapsed": false
   },
   "outputs": [],
   "source": [
    "xgb0_fs_submmison = pd.DataFrame({'PassengerId': test.PassengerId, 'Survived': xgb0_fs_prediction})\n",
    "xgb0_fs_submmison.to_csv('../result/xgb0_fs_prediction.csv', index=None)"
   ]
  },
  {
   "cell_type": "markdown",
   "metadata": {},
   "source": [
    "## 3.2 RFECV后向选择"
   ]
  },
  {
   "cell_type": "code",
   "execution_count": 55,
   "metadata": {
    "collapsed": true
   },
   "outputs": [],
   "source": [
    "from sklearn.model_selection import StratifiedKFold\n",
    "from sklearn.feature_selection import RFECV"
   ]
  },
  {
   "cell_type": "code",
   "execution_count": 56,
   "metadata": {
    "collapsed": true
   },
   "outputs": [],
   "source": [
    "rf0 = RandomForestClassifier(random_state=1234)\n",
    "gbm0 = GradientBoostingClassifier(random_state=1234)\n",
    "xgb0 = XGBClassifier(seed=1234)"
   ]
  },
  {
   "cell_type": "markdown",
   "metadata": {},
   "source": [
    "### 3.2.1 随机森林"
   ]
  },
  {
   "cell_type": "code",
   "execution_count": 58,
   "metadata": {
    "collapsed": false
   },
   "outputs": [
    {
     "data": {
      "text/plain": [
       "RFECV(cv=StratifiedKFold(n_splits=5, random_state=None, shuffle=False),\n",
       "   estimator=RandomForestClassifier(bootstrap=True, class_weight=None, criterion='gini',\n",
       "            max_depth=None, max_features='auto', max_leaf_nodes=None,\n",
       "            min_impurity_split=1e-07, min_samples_leaf=1,\n",
       "            min_samples_split=2, min_weight_fraction_leaf=0.0,\n",
       "            n_estimators=10, n_jobs=1, oob_score=False, random_state=1234,\n",
       "            verbose=0, warm_start=False),\n",
       "   n_jobs=1, scoring='accuracy', step=1, verbose=0)"
      ]
     },
     "execution_count": 58,
     "metadata": {},
     "output_type": "execute_result"
    }
   ],
   "source": [
    "rf0_rfecv = RFECV(estimator=rf0, step=1, cv=StratifiedKFold(5),\n",
    "              scoring='accuracy')\n",
    "rf0_rfecv.fit(titanic[all_predictors], titanic['Survived'])"
   ]
  },
  {
   "cell_type": "code",
   "execution_count": 59,
   "metadata": {
    "collapsed": false
   },
   "outputs": [
    {
     "data": {
      "image/png": "[encoded data removed]",
      "text/plain": [
       "<matplotlib.figure.Figure at 0xb95e7b8>"
      ]
     },
     "metadata": {},
     "output_type": "display_data"
    }
   ],
   "source": [
    "plt.figure()\n",
    "plt.xlabel(\"Number of features selected\")\n",
    "plt.ylabel(\"Cross validation score (nb of correct classifications)\")\n",
    "plt.plot(range(1, len(rf0_rfecv.grid_scores_) + 1), rf0_rfecv.grid_scores_);"
   ]
  },
  {
   "cell_type": "code",
   "execution_count": 60,
   "metadata": {
    "collapsed": false
   },
   "outputs": [
    {
     "data": {
      "text/plain": [
       "0.82270838187423379"
      ]
     },
     "execution_count": 60,
     "metadata": {},
     "output_type": "execute_result"
    }
   ],
   "source": [
    "rf0_rfecv.grid_scores_.max()"
   ]
  },
  {
   "cell_type": "code",
   "execution_count": 62,
   "metadata": {
    "collapsed": false
   },
   "outputs": [
    {
     "data": {
      "text/plain": [
       "['Age',\n",
       " 'SibSp',\n",
       " 'Parch',\n",
       " 'Fare',\n",
       " 'Pclass_1',\n",
       " 'Pclass_2',\n",
       " 'Pclass_3',\n",
       " 'Sex_encode',\n",
       " 'Cabin_notnull',\n",
       " 'Embarked_C',\n",
       " 'Embarked_Q',\n",
       " 'Embarked_S',\n",
       " 'Family_size',\n",
       " 'Name_len',\n",
       " 'Age_Child',\n",
       " 'Age_Adult',\n",
       " 'Title',\n",
       " 'Male_1',\n",
       " 'Male_2',\n",
       " 'Male_3',\n",
       " 'Female_1',\n",
       " 'Female_2']"
      ]
     },
     "execution_count": 62,
     "metadata": {},
     "output_type": "execute_result"
    }
   ],
   "source": [
    "rf0_rfecv_predictors = list(Series(all_predictors)[rf0_rfecv.support_])\n",
    "rf0_rfecv_predictors"
   ]
  },
  {
   "cell_type": "markdown",
   "metadata": {},
   "source": [
    "+ 预测"
   ]
  },
  {
   "cell_type": "code",
   "execution_count": 67,
   "metadata": {
    "collapsed": false
   },
   "outputs": [],
   "source": [
    "rf0_rfecv_estimator = RandomForestClassifier(random_state=1234)\n",
    "rf0_rfecv_estimator.fit(titanic[rf0_rfecv_predictors], titanic['Survived'])\n",
    "rf0_rfecv_prediction = rf0_rfecv_estimator.predict(test[rf0_rfecv_predictors])"
   ]
  },
  {
   "cell_type": "code",
   "execution_count": 68,
   "metadata": {
    "collapsed": false
   },
   "outputs": [],
   "source": [
    "rf0_rfecv_prediction = DataFrame(rf0_rfecv_prediction)\n",
    "rf0_rfecv_prediction.columns = ['Survived']\n",
    "rf0_rfecv_prediction = pd.concat([test[['PassengerId']], rf0_rfecv_prediction], axis=1)\n",
    "rf0_rfecv_prediction.to_csv('../result/rf0_rfecv_addfeature_prediction.csv', index=None)"
   ]
  },
  {
   "cell_type": "markdown",
   "metadata": {},
   "source": [
    "### 3.2.2 GBM"
   ]
  },
  {
   "cell_type": "code",
   "execution_count": 69,
   "metadata": {
    "collapsed": false
   },
   "outputs": [
    {
     "data": {
      "text/plain": [
       "RFECV(cv=StratifiedKFold(n_splits=5, random_state=None, shuffle=False),\n",
       "   estimator=GradientBoostingClassifier(criterion='friedman_mse', init=None,\n",
       "              learning_rate=0.1, loss='deviance', max_depth=3,\n",
       "              max_features=None, max_leaf_nodes=None,\n",
       "              min_impurity_split=1e-07, min_samples_leaf=1,\n",
       "              min_samples_split=2, min_weight_fraction_leaf=0.0,\n",
       "              n_estimators=100, presort='auto', random_state=1234,\n",
       "              subsample=1.0, verbose=0, warm_start=False),\n",
       "   n_jobs=1, scoring='accuracy', step=1, verbose=0)"
      ]
     },
     "execution_count": 69,
     "metadata": {},
     "output_type": "execute_result"
    }
   ],
   "source": [
    "gbm0_rfecv = RFECV(estimator=gbm0, step=1, cv=StratifiedKFold(5),\n",
    "              scoring='accuracy')\n",
    "gbm0_rfecv.fit(titanic[all_predictors], titanic['Survived'])"
   ]
  },
  {
   "cell_type": "code",
   "execution_count": 70,
   "metadata": {
    "collapsed": false
   },
   "outputs": [
    {
     "data": {
      "image/png": "[encoded data removed]",
      "text/plain": [
       "<matplotlib.figure.Figure at 0xadf9400>"
      ]
     },
     "metadata": {},
     "output_type": "display_data"
    }
   ],
   "source": [
    "plt.figure()\n",
    "plt.xlabel(\"Number of features selected\")\n",
    "plt.ylabel(\"Cross validation score (nb of correct classifications)\")\n",
    "plt.plot(range(1, len(gbm0_rfecv.grid_scores_) + 1), gbm0_rfecv.grid_scores_);"
   ]
  },
  {
   "cell_type": "code",
   "execution_count": 71,
   "metadata": {
    "collapsed": false
   },
   "outputs": [
    {
     "data": {
      "text/plain": [
       "0.82831401804462534"
      ]
     },
     "execution_count": 71,
     "metadata": {},
     "output_type": "execute_result"
    }
   ],
   "source": [
    "gbm0_rfecv.grid_scores_.max()"
   ]
  },
  {
   "cell_type": "code",
   "execution_count": 73,
   "metadata": {
    "collapsed": false
   },
   "outputs": [
    {
     "data": {
      "text/plain": [
       "0             Age\n",
       "3            Fare\n",
       "6        Pclass_3\n",
       "7      Sex_encode\n",
       "11     Embarked_S\n",
       "12    Family_size\n",
       "13       Name_len\n",
       "17          Title\n",
       "22         Male_2\n",
       "dtype: object"
      ]
     },
     "execution_count": 73,
     "metadata": {},
     "output_type": "execute_result"
    }
   ],
   "source": [
    "Series(all_predictors)[gbm0_rfecv.support_]"
   ]
  },
  {
   "cell_type": "markdown",
   "metadata": {
    "collapsed": true
   },
   "source": [
    "### 3.2.3 XGBoost"
   ]
  },
  {
   "cell_type": "code",
   "execution_count": 75,
   "metadata": {
    "collapsed": false
   },
   "outputs": [
    {
     "data": {
      "text/plain": [
       "RFECV(cv=StratifiedKFold(n_splits=5, random_state=None, shuffle=False),\n",
       "   estimator=XGBClassifier(base_score=0.5, colsample_bylevel=1, colsample_bytree=1,\n",
       "       gamma=0, learning_rate=0.1, max_delta_step=0, max_depth=3,\n",
       "       min_child_weight=1, missing=None, n_estimators=100, nthread=-1,\n",
       "       objective='binary:logistic', reg_alpha=0, reg_lambda=1,\n",
       "       scale_pos_weight=1, seed=1234, silent=True, subsample=1),\n",
       "   n_jobs=1, scoring='accuracy', step=1, verbose=0)"
      ]
     },
     "execution_count": 75,
     "metadata": {},
     "output_type": "execute_result"
    }
   ],
   "source": [
    "xgb0_rfecv = RFECV(estimator=xgb0, step=1, cv=StratifiedKFold(5),\n",
    "              scoring='accuracy')\n",
    "xgb0_rfecv.fit(titanic[all_predictors], titanic['Survived'])"
   ]
  },
  {
   "cell_type": "code",
   "execution_count": 76,
   "metadata": {
    "collapsed": false
   },
   "outputs": [
    {
     "data": {
      "image/png": "[encoded data removed]",
      "text/plain": [
       "<matplotlib.figure.Figure at 0xb1cc080>"
      ]
     },
     "metadata": {},
     "output_type": "display_data"
    }
   ],
   "source": [
    "plt.figure()\n",
    "plt.xlabel(\"Number of features selected\")\n",
    "plt.ylabel(\"Cross validation score (nb of correct classifications)\")\n",
    "plt.plot(range(1, len(xgb0_rfecv.grid_scores_) + 1), xgb0_rfecv.grid_scores_);"
   ]
  },
  {
   "cell_type": "code",
   "execution_count": 77,
   "metadata": {
    "collapsed": false
   },
   "outputs": [
    {
     "data": {
      "text/plain": [
       "0.82606040810883952"
      ]
     },
     "execution_count": 77,
     "metadata": {},
     "output_type": "execute_result"
    }
   ],
   "source": [
    "xgb0_rfecv.grid_scores_.max()"
   ]
  },
  {
   "cell_type": "code",
   "execution_count": 79,
   "metadata": {
    "collapsed": false
   },
   "outputs": [
    {
     "data": {
      "text/plain": [
       "0               Age\n",
       "3              Fare\n",
       "5          Pclass_2\n",
       "8     Cabin_notnull\n",
       "11       Embarked_S\n",
       "12      Family_size\n",
       "13         Name_len\n",
       "17            Title\n",
       "22           Male_2\n",
       "24         Female_1\n",
       "dtype: object"
      ]
     },
     "execution_count": 79,
     "metadata": {},
     "output_type": "execute_result"
    }
   ],
   "source": [
    "Series(all_predictors)[xgb0_rfecv.support_]"
   ]
  },
  {
   "cell_type": "markdown",
   "metadata": {},
   "source": [
    "### ``RFECV``进行后向选择的效果比自编函数前向选择的效果差，但运算速度明显更快。提交结果仍不理想，可能落入局部最优，试试逐一加入或剔除新构建的特征"
   ]
  },
  {
   "cell_type": "markdown",
   "metadata": {},
   "source": [
    "## 3.3 在基线模型基础上，逐一加入或剔除新构建的特征"
   ]
  },
  {
   "cell_type": "code",
   "execution_count": 80,
   "metadata": {
    "collapsed": true
   },
   "outputs": [],
   "source": [
    "raw_predictors = [\n",
    "    'Age',\n",
    "    'SibSp',\n",
    "    'Parch',\n",
    "    'Fare',\n",
    "    'Pclass_1',\n",
    "    'Pclass_2',\n",
    "    'Pclass_3',\n",
    "    'Sex_encode',\n",
    "    'Cabin_notnull',\n",
    "    'Embarked_C',\n",
    "    'Embarked_Q',\n",
    "    'Embarked_S'\n",
    "]"
   ]
  },
  {
   "cell_type": "markdown",
   "metadata": {},
   "source": [
    "### 3.3.1 随机森林"
   ]
  },
  {
   "cell_type": "markdown",
   "metadata": {},
   "source": [
    "+ 随机森林基线模型"
   ]
  },
  {
   "cell_type": "code",
   "execution_count": 81,
   "metadata": {
    "collapsed": false
   },
   "outputs": [
    {
     "name": "stdout",
     "output_type": "stream",
     "text": [
      "CV Score : Mean - 0.8013974 | Std - 0.03113943 | Min - 0.7696629 | Max - 0.8539326\n"
     ]
    },
    {
     "data": {
      "image/png": "[encoded data removed]",
      "text/plain": [
       "<matplotlib.figure.Figure at 0xb6401d0>"
      ]
     },
     "metadata": {},
     "output_type": "display_data"
    }
   ],
   "source": [
    "rf0 = RandomForestClassifier(random_state=1234)\n",
    "modelfit(rf0, titanic, titanic['Survived'], raw_predictors)"
   ]
  },
  {
   "cell_type": "markdown",
   "metadata": {},
   "source": [
    "+ 手工选择特征"
   ]
  },
  {
   "cell_type": "code",
   "execution_count": 103,
   "metadata": {
    "collapsed": true
   },
   "outputs": [],
   "source": [
    "rf_predictors = ['Title', 'Family_size', 'Cabin_notnull', 'Age_Child', 'Parch', 'Embarked_Q', 'Age_Elder']"
   ]
  },
  {
   "cell_type": "code",
   "execution_count": 84,
   "metadata": {
    "collapsed": false,
    "scrolled": true
   },
   "outputs": [
    {
     "name": "stdout",
     "output_type": "stream",
     "text": [
      "CV Score : Mean - 0.8260604 | Std - 0.0102759 | Min - 0.8146067 | Max - 0.8418079\n"
     ]
    },
    {
     "data": {
      "image/png": "[encoded data removed]",
      "text/plain": [
       "<matplotlib.figure.Figure at 0xb92b5c0>"
      ]
     },
     "metadata": {},
     "output_type": "display_data"
    }
   ],
   "source": [
    "rf0 = RandomForestClassifier(random_state=1234)\n",
    "modelfit(rf0, titanic, titanic['Survived'], rf_predictors)"
   ]
  },
  {
   "cell_type": "code",
   "execution_count": 132,
   "metadata": {
    "collapsed": false
   },
   "outputs": [],
   "source": [
    "rf_addsex_predictors = ['Title', 'Family_size', 'Cabin_notnull', 'Age_Child', 'Parch', 'Embarked_Q', 'Age_Elder', 'Sex_encode']"
   ]
  },
  {
   "cell_type": "code",
   "execution_count": 133,
   "metadata": {
    "collapsed": false,
    "scrolled": true
   },
   "outputs": [
    {
     "name": "stdout",
     "output_type": "stream",
     "text": [
      "CV Score : Mean - 0.8238258 | Std - 0.01577406 | Min - 0.8033708 | Max - 0.8474576\n"
     ]
    },
    {
     "data": {
      "image/png": "[encoded data removed]",
      "text/plain": [
       "<matplotlib.figure.Figure at 0xb052fd0>"
      ]
     },
     "metadata": {},
     "output_type": "display_data"
    }
   ],
   "source": [
    "rf0 = RandomForestClassifier(random_state=1234)\n",
    "modelfit(rf0, titanic, titanic['Survived'], rf_addsex_predictors)"
   ]
  },
  {
   "cell_type": "markdown",
   "metadata": {},
   "source": [
    "### 最终确定，随机森林模型使用的特征如下："
   ]
  },
  {
   "cell_type": "code",
   "execution_count": 17,
   "metadata": {
    "collapsed": true
   },
   "outputs": [],
   "source": [
    "rf_predictors = ['Title', 'Family_size', 'Cabin_notnull', 'Age_Child', 'Parch', 'Embarked_Q', 'Age_Elder']\n",
    "rf_addsex_predictors = ['Title', 'Family_size', 'Cabin_notnull', 'Age_Child', 'Parch', 'Embarked_Q', 'Age_Elder', 'Sex_encode']"
   ]
  },
  {
   "cell_type": "markdown",
   "metadata": {},
   "source": [
    "+ 预测"
   ]
  },
  {
   "cell_type": "code",
   "execution_count": 129,
   "metadata": {
    "collapsed": false
   },
   "outputs": [],
   "source": [
    "rf0 = RandomForestClassifier(random_state=1234)\n",
    "rf0.fit(titanic[rf_predictors], titanic['Survived'])\n",
    "rf0_prediction = rf0.predict(test[rf_predictors])"
   ]
  },
  {
   "cell_type": "code",
   "execution_count": 130,
   "metadata": {
    "collapsed": false
   },
   "outputs": [],
   "source": [
    "rf0_prediction = DataFrame(rf0_prediction)\n",
    "rf0_prediction.columns = ['Survived']\n",
    "rf0_prediction = pd.concat([test[['PassengerId']], rf0_prediction], axis=1)\n",
    "rf0_prediction.to_csv('../result/rf0_prediction.csv', index=None)"
   ]
  },
  {
   "cell_type": "code",
   "execution_count": 129,
   "metadata": {
    "collapsed": false
   },
   "outputs": [],
   "source": [
    "rf0 = RandomForestClassifier(random_state=1234)\n",
    "rf0.fit(titanic[test_predictors], titanic['Survived'])\n",
    "rf0_addsex_prediction = rf0.predict(test[test_predictors])"
   ]
  },
  {
   "cell_type": "code",
   "execution_count": 130,
   "metadata": {
    "collapsed": false
   },
   "outputs": [],
   "source": [
    "rf0_addsex_prediction = DataFrame(rf0_addsex_prediction)\n",
    "rf0_addsex_prediction.columns = ['Survived']\n",
    "rf0_addsex_prediction = pd.concat([test[['PassengerId']], rf0_addsex_prediction], axis=1)\n",
    "rf0_addsex_prediction.to_csv('../result/rf0_addsex_prediction.csv', index=None)"
   ]
  },
  {
   "cell_type": "markdown",
   "metadata": {},
   "source": [
    "### 3.3.2 GBM"
   ]
  },
  {
   "cell_type": "markdown",
   "metadata": {},
   "source": [
    "+ GBM基线模型"
   ]
  },
  {
   "cell_type": "code",
   "execution_count": 85,
   "metadata": {
    "collapsed": false
   },
   "outputs": [
    {
     "name": "stdout",
     "output_type": "stream",
     "text": [
      "CV Score : Mean - 0.8260983 | Std - 0.01960792 | Min - 0.8033708 | Max - 0.8587571\n"
     ]
    },
    {
     "data": {
      "image/png": "[encoded data removed]",
      "text/plain": [
       "<matplotlib.figure.Figure at 0xbf28fd0>"
      ]
     },
     "metadata": {},
     "output_type": "display_data"
    }
   ],
   "source": [
    "gbm0 = GradientBoostingClassifier(random_state=1234)\n",
    "modelfit(gbm0, titanic, titanic['Survived'], raw_predictors)"
   ]
  },
  {
   "cell_type": "markdown",
   "metadata": {},
   "source": [
    "+ 手工选择特征"
   ]
  },
  {
   "cell_type": "code",
   "execution_count": 135,
   "metadata": {
    "collapsed": true
   },
   "outputs": [],
   "source": [
    "gbm_predictors = ['Age', 'SibSp', 'Parch', 'Fare', 'Pclass_1', 'Pclass_3', 'Sex_encode', 'Cabin_notnull', 'Embarked_C', 'Embarked_S']"
   ]
  },
  {
   "cell_type": "code",
   "execution_count": 344,
   "metadata": {
    "collapsed": false,
    "scrolled": false
   },
   "outputs": [
    {
     "name": "stdout",
     "output_type": "stream",
     "text": [
      "CV Score : Mean - 0.8328399 | Std - 0.01999473 | Min - 0.8146067 | Max - 0.8644068\n"
     ]
    },
    {
     "data": {
      "image/png": "[encoded data removed]",
      "text/plain": [
       "<matplotlib.figure.Figure at 0xe7123c8>"
      ]
     },
     "metadata": {},
     "output_type": "display_data"
    }
   ],
   "source": [
    "gbm0 = GradientBoostingClassifier(random_state=1234)\n",
    "modelfit(gbm0, titanic, titanic['Survived'], gbm_predictors)"
   ]
  },
  {
   "cell_type": "markdown",
   "metadata": {},
   "source": [
    "### 最终确定，GBM模型使用的特征如下："
   ]
  },
  {
   "cell_type": "code",
   "execution_count": 285,
   "metadata": {
    "collapsed": true
   },
   "outputs": [],
   "source": [
    "gbm_predictors = ['Age', 'SibSp', 'Parch', 'Fare', 'Pclass_1', 'Pclass_3', 'Sex_encode', 'Cabin_notnull', 'Embarked_C', 'Embarked_S']"
   ]
  },
  {
   "cell_type": "markdown",
   "metadata": {},
   "source": [
    "+ 预测"
   ]
  },
  {
   "cell_type": "code",
   "execution_count": 52,
   "metadata": {
    "collapsed": false
   },
   "outputs": [],
   "source": [
    "gbm0 = GradientBoostingClassifier(random_state=1234)\n",
    "gbm0.fit(titanic[gbm_predictors], titanic['Survived'])\n",
    "gbm0_prediction = gbm0.predict(test[gbm_predictors])"
   ]
  },
  {
   "cell_type": "code",
   "execution_count": 105,
   "metadata": {
    "collapsed": false
   },
   "outputs": [],
   "source": [
    "gbm0_prediction = DataFrame(gbm0_prediction)\n",
    "gbm0_prediction.columns = ['Survived']\n",
    "gbm0_prediction = pd.concat([test[['PassengerId']], gbm0_prediction], axis=1)\n",
    "gbm0_prediction.to_csv('../result/gbm0_prediction.csv', index=None)"
   ]
  },
  {
   "cell_type": "markdown",
   "metadata": {},
   "source": [
    "### 3.3.3 XGBoost"
   ]
  },
  {
   "cell_type": "markdown",
   "metadata": {},
   "source": [
    "+ XGBoost基线模型"
   ]
  },
  {
   "cell_type": "code",
   "execution_count": 59,
   "metadata": {
    "collapsed": false,
    "scrolled": false
   },
   "outputs": [
    {
     "name": "stdout",
     "output_type": "stream",
     "text": [
      "CV Score : Mean - 0.8272281 | Std - 0.02397257 | Min - 0.8033708 | Max - 0.8595506\n"
     ]
    },
    {
     "data": {
      "image/png": "[encoded data removed]",
      "text/plain": [
       "<matplotlib.figure.Figure at 0xc270080>"
      ]
     },
     "metadata": {},
     "output_type": "display_data"
    }
   ],
   "source": [
    "xgb0 = XGBClassifier(seed=1234)\n",
    "modelfit(xgb0, titanic, titanic['Survived'], raw_predictors)"
   ]
  },
  {
   "cell_type": "markdown",
   "metadata": {},
   "source": [
    "+ 手工选择特征"
   ]
  },
  {
   "cell_type": "code",
   "execution_count": 134,
   "metadata": {
    "collapsed": true
   },
   "outputs": [],
   "source": [
    "xgb_predictors = ['Age', 'SibSp', 'Parch', 'Fare', 'Pclass_1', 'Pclass_2', 'Pclass_3', 'Sex_encode', 'Cabin_notnull', 'Embarked_C',\n",
    "                  'Embarked_Q', 'Embarked_S', 'Title', 'Family_size']"
   ]
  },
  {
   "cell_type": "code",
   "execution_count": 114,
   "metadata": {
    "collapsed": false,
    "scrolled": false
   },
   "outputs": [
    {
     "name": "stdout",
     "output_type": "stream",
     "text": [
      "CV Score : Mean - 0.8350366 | Std - 0.01281924 | Min - 0.8202247 | Max - 0.8539326\n"
     ]
    },
    {
     "data": {
      "image/png": "[encoded data removed]",
      "text/plain": [
       "<matplotlib.figure.Figure at 0xb485eb8>"
      ]
     },
     "metadata": {},
     "output_type": "display_data"
    }
   ],
   "source": [
    "xgb0 = XGBClassifier(seed=1234)\n",
    "modelfit(xgb0, titanic, titanic['Survived'], xgb_predictors)"
   ]
  },
  {
   "cell_type": "markdown",
   "metadata": {},
   "source": [
    "### 最终确定，XGBoost模型使用的特征如下："
   ]
  },
  {
   "cell_type": "code",
   "execution_count": 284,
   "metadata": {
    "collapsed": true
   },
   "outputs": [],
   "source": [
    "xgb_predictors = ['Age', 'SibSp', 'Parch', 'Fare', 'Pclass_1', 'Pclass_2', 'Pclass_3', 'Sex_encode', 'Cabin_notnull', 'Embarked_C',\n",
    "                  'Embarked_Q', 'Embarked_S', 'Title', 'Family_size']"
   ]
  },
  {
   "cell_type": "markdown",
   "metadata": {},
   "source": [
    "+ 预测"
   ]
  },
  {
   "cell_type": "code",
   "execution_count": 53,
   "metadata": {
    "collapsed": false
   },
   "outputs": [],
   "source": [
    "xgb0 = XGBClassifier(seed=1234)\n",
    "xgb0.fit(titanic[xgb_predictors], titanic['Survived'])\n",
    "xgb0_prediction = xgb0.predict(test[xgb_predictors])"
   ]
  },
  {
   "cell_type": "code",
   "execution_count": 107,
   "metadata": {
    "collapsed": false
   },
   "outputs": [],
   "source": [
    "xgb0_prediction = DataFrame(xgb0_prediction)\n",
    "xgb0_prediction.columns = ['Survived']\n",
    "xgb0_prediction = pd.concat([test[['PassengerId']], xgb0_prediction], axis=1)\n",
    "xgb0_prediction.to_csv('../result/xgb0_prediction.csv', index=None)"
   ]
  },
  {
   "cell_type": "markdown",
   "metadata": {},
   "source": [
    "### 上传结果，rf0击败了Benchmark，gbm0和xgb0结果比Benchmark差，预测结果与交叉验证结果相反，可能过拟合。  \n",
    "### 下面绘制学习曲线来看看到底有没有过拟合。"
   ]
  },
  {
   "cell_type": "markdown",
   "metadata": {},
   "source": [
    "# 4 学习曲线"
   ]
  },
  {
   "cell_type": "code",
   "execution_count": 56,
   "metadata": {
    "collapsed": true
   },
   "outputs": [],
   "source": [
    "# learning_curve计算training_score、cv_score，自编函数绘制learning curve\n",
    "from sklearn.model_selection import learning_curve\n",
    "from sklearn.model_selection import ShuffleSplit\n",
    "\n",
    "\n",
    "def plot_learning_curve(estimator, title, X, y, ylim=None, cv=None,\n",
    "                        n_jobs=1, train_sizes=np.linspace(.05, 1.0, 20)):\n",
    "    \"\"\"\n",
    "    参数：\n",
    "    ----------\n",
    "    estimator : 分类器\n",
    "    title : 图表的标题\n",
    "    X : 特征\n",
    "    y : 标签\n",
    "    ylim : (ymin, ymax)，图表y轴上的界限\n",
    "    cv : 默认3折\n",
    "         当y为类别变量，自动应用StratifiedKFold，否则应用KFold\n",
    "    n_jobs : 并行线程数\n",
    "    \"\"\"\n",
    "    plt.figure()\n",
    "    plt.title(title)\n",
    "    if ylim is not None:\n",
    "        plt.ylim(*ylim)\n",
    "    plt.xlabel(\"Training examples\")\n",
    "    plt.ylabel(\"Score\")\n",
    "    \n",
    "    # 用learning_curve计算模型在训练集、验证集上的得分，并用均值平滑曲线，用方差绘制置信区间\n",
    "    train_sizes, train_scores, test_scores = learning_curve(\n",
    "        estimator, X, y, cv=cv, n_jobs=n_jobs, train_sizes=train_sizes)\n",
    "    train_scores_mean = np.mean(train_scores, axis=1)\n",
    "    train_scores_std = np.std(train_scores, axis=1)\n",
    "    test_scores_mean = np.mean(test_scores, axis=1)\n",
    "    test_scores_std = np.std(test_scores, axis=1)\n",
    "    \n",
    "    # 绘制置信区间\n",
    "    plt.fill_between(train_sizes, train_scores_mean - train_scores_std,\n",
    "                     train_scores_mean + train_scores_std, alpha=0.1,\n",
    "                     color=\"r\")\n",
    "    plt.fill_between(train_sizes, test_scores_mean - test_scores_std,\n",
    "                     test_scores_mean + test_scores_std, alpha=0.1, color=\"g\")\n",
    "    \n",
    "    # 绘制学习曲线\n",
    "    plt.plot(train_sizes, train_scores_mean, 'o-', color=\"r\",\n",
    "             label=\"Training score\")\n",
    "    plt.plot(train_sizes, test_scores_mean, 'o-', color=\"g\",\n",
    "             label=\"Cross-validation score\")\n",
    "\n",
    "    plt.legend(loc=\"best\")    \n",
    "    plt.grid(True)\n",
    "    \n",
    "    return plt"
   ]
  },
  {
   "cell_type": "markdown",
   "metadata": {},
   "source": [
    "## 4.1 随机森林"
   ]
  },
  {
   "cell_type": "code",
   "execution_count": 57,
   "metadata": {
    "collapsed": false
   },
   "outputs": [
    {
     "data": {
      "image/png": "[encoded data removed]",
      "text/plain": [
       "<matplotlib.figure.Figure at 0xafca390>"
      ]
     },
     "metadata": {},
     "output_type": "display_data"
    }
   ],
   "source": [
    "title = \"Learning Curves (rf0)\"\n",
    "# 设置n_splits=100，使学习曲线更加光滑\n",
    "cv = ShuffleSplit(n_splits=100, test_size=0.2, random_state=0)\n",
    "plot_learning_curve(rf0, title, titanic[rf_predictors], titanic['Survived'], cv=cv);"
   ]
  },
  {
   "cell_type": "markdown",
   "metadata": {},
   "source": [
    "## 4.2 GBM"
   ]
  },
  {
   "cell_type": "code",
   "execution_count": 54,
   "metadata": {
    "collapsed": false
   },
   "outputs": [
    {
     "data": {
      "image/png": "[encoded data removed]",
      "text/plain": [
       "<matplotlib.figure.Figure at 0xb05f9e8>"
      ]
     },
     "metadata": {},
     "output_type": "display_data"
    }
   ],
   "source": [
    "title = \"Learning Curves (gbm0)\"\n",
    "cv = ShuffleSplit(n_splits=100, test_size=0.2, random_state=0)\n",
    "plot_learning_curve(gbm0, title, titanic[rf_predictors], titanic['Survived'], cv=cv);"
   ]
  },
  {
   "cell_type": "markdown",
   "metadata": {},
   "source": [
    "## 4.3 XGBoost"
   ]
  },
  {
   "cell_type": "code",
   "execution_count": 55,
   "metadata": {
    "collapsed": false
   },
   "outputs": [
    {
     "data": {
      "image/png": "[encoded data removed]",
      "text/plain": [
       "<matplotlib.figure.Figure at 0xb462b00>"
      ]
     },
     "metadata": {},
     "output_type": "display_data"
    }
   ],
   "source": [
    "title = \"Learning Curves (xgb0)\"\n",
    "cv = ShuffleSplit(n_splits=100, test_size=0.2, random_state=0)\n",
    "plot_learning_curve(xgb0, title, titanic[rf_predictors], titanic['Survived'], cv=cv);"
   ]
  },
  {
   "cell_type": "markdown",
   "metadata": {},
   "source": [
    "### 结果令人困惑，rf0的学习曲线gap较大，显示有过拟合的可能，而gbm0和xgb0的gap很小，显示没有过拟合。"
   ]
  },
  {
   "cell_type": "markdown",
   "metadata": {},
   "source": [
    "# 5 调参"
   ]
  },
  {
   "cell_type": "code",
   "execution_count": 305,
   "metadata": {
    "collapsed": true
   },
   "outputs": [],
   "source": [
    "rf_predictors = ['Title', 'Family_size', 'Cabin_notnull', 'Age_Child', 'Parch', 'Embarked_Q', 'Age_Elder']"
   ]
  },
  {
   "cell_type": "markdown",
   "metadata": {},
   "source": [
    "+ n_estimators=50"
   ]
  },
  {
   "cell_type": "code",
   "execution_count": 311,
   "metadata": {
    "collapsed": false
   },
   "outputs": [
    {
     "data": {
      "text/plain": [
       "GridSearchCV(cv=5, error_score='raise',\n",
       "       estimator=RandomForestClassifier(bootstrap=True, class_weight=None, criterion='gini',\n",
       "            max_depth=5, max_features='sqrt', max_leaf_nodes=None,\n",
       "            min_impurity_split=1e-07, min_samples_leaf=1,\n",
       "            min_samples_split=4, min_weight_fraction_leaf=0.0,\n",
       "            n_estimators=10, n_jobs=1, oob_score=False, random_state=1234,\n",
       "            verbose=0, warm_start=False),\n",
       "       fit_params={}, iid=False, n_jobs=-1,\n",
       "       param_grid={'n_estimators': [10, 20, 30, 40, 50, 60, 70, 80, 90, 100, 110, 120, 130, 140, 150]},\n",
       "       pre_dispatch='2*n_jobs', refit=True, return_train_score=True,\n",
       "       scoring='accuracy', verbose=0)"
      ]
     },
     "execution_count": 311,
     "metadata": {},
     "output_type": "execute_result"
    }
   ],
   "source": [
    "param_test1 = {'n_estimators':range(10,151,10)}\n",
    "gsearch1 = GridSearchCV(\n",
    "    estimator = RandomForestClassifier(min_samples_split=4, max_depth=5, max_features='sqrt', random_state=1234),\n",
    "    param_grid = param_test1, scoring='accuracy',n_jobs=-1,iid=False, cv=5)\n",
    "gsearch1.fit(titanic[rf_predictors],titanic['Survived'])"
   ]
  },
  {
   "cell_type": "code",
   "execution_count": 312,
   "metadata": {
    "collapsed": false
   },
   "outputs": [
    {
     "name": "stderr",
     "output_type": "stream",
     "text": [
      "C:\\Anaconda2\\lib\\site-packages\\sklearn\\model_selection\\_search.py:662: DeprecationWarning: The grid_scores_ attribute was deprecated in version 0.18 in favor of the more elaborate cv_results_ attribute. The grid_scores_ attribute will not be available from 0.20\n",
      "  DeprecationWarning)\n"
     ]
    },
    {
     "data": {
      "text/plain": [
       "([mean: 0.82384, std: 0.01250, params: {'n_estimators': 10},\n",
       "  mean: 0.82942, std: 0.01127, params: {'n_estimators': 20},\n",
       "  mean: 0.82942, std: 0.01127, params: {'n_estimators': 30},\n",
       "  mean: 0.82942, std: 0.01127, params: {'n_estimators': 40},\n",
       "  mean: 0.83055, std: 0.01315, params: {'n_estimators': 50},\n",
       "  mean: 0.83055, std: 0.01315, params: {'n_estimators': 60},\n",
       "  mean: 0.83055, std: 0.01315, params: {'n_estimators': 70},\n",
       "  mean: 0.82942, std: 0.01127, params: {'n_estimators': 80},\n",
       "  mean: 0.82942, std: 0.01127, params: {'n_estimators': 90},\n",
       "  mean: 0.82942, std: 0.01127, params: {'n_estimators': 100},\n",
       "  mean: 0.82942, std: 0.01127, params: {'n_estimators': 110},\n",
       "  mean: 0.82942, std: 0.01127, params: {'n_estimators': 120},\n",
       "  mean: 0.82942, std: 0.01127, params: {'n_estimators': 130},\n",
       "  mean: 0.82942, std: 0.01127, params: {'n_estimators': 140},\n",
       "  mean: 0.82942, std: 0.01127, params: {'n_estimators': 150}],\n",
       " {'n_estimators': 50},\n",
       " 0.83055493198599761)"
      ]
     },
     "execution_count": 312,
     "metadata": {},
     "output_type": "execute_result"
    }
   ],
   "source": [
    "gsearch1.grid_scores_, gsearch1.best_params_, gsearch1.best_score_"
   ]
  },
  {
   "cell_type": "markdown",
   "metadata": {
    "collapsed": true
   },
   "source": [
    "+ max_depth=11, min_samples_split=8"
   ]
  },
  {
   "cell_type": "code",
   "execution_count": 319,
   "metadata": {
    "collapsed": false
   },
   "outputs": [
    {
     "data": {
      "text/plain": [
       "GridSearchCV(cv=5, error_score='raise',\n",
       "       estimator=RandomForestClassifier(bootstrap=True, class_weight=None, criterion='gini',\n",
       "            max_depth=None, max_features='sqrt', max_leaf_nodes=None,\n",
       "            min_impurity_split=1e-07, min_samples_leaf=1,\n",
       "            min_samples_split=2, min_weight_fraction_leaf=0.0,\n",
       "            n_estimators=50, n_jobs=1, oob_score=False, random_state=1234,\n",
       "            verbose=0, warm_start=False),\n",
       "       fit_params={}, iid=False, n_jobs=-1,\n",
       "       param_grid={'min_samples_split': [2, 4, 6, 8], 'max_depth': [1, 2, 3, 4, 5, 6, 7, 8, 9, 10, 11, 12, 13, 14, 15]},\n",
       "       pre_dispatch='2*n_jobs', refit=True, return_train_score=True,\n",
       "       scoring='accuracy', verbose=0)"
      ]
     },
     "execution_count": 319,
     "metadata": {},
     "output_type": "execute_result"
    }
   ],
   "source": [
    "param_test2 = {'max_depth':range(1,16,1), 'min_samples_split':range(2,10,2)}\n",
    "gsearch2 = GridSearchCV(\n",
    "    estimator = RandomForestClassifier(n_estimators=50, max_features='sqrt', random_state=1234),\n",
    "    param_grid = param_test2, scoring='accuracy',n_jobs=-1,iid=False, cv=5)\n",
    "gsearch2.fit(titanic[rf_predictors],titanic['Survived'])"
   ]
  },
  {
   "cell_type": "code",
   "execution_count": 320,
   "metadata": {
    "collapsed": false,
    "scrolled": false
   },
   "outputs": [
    {
     "name": "stderr",
     "output_type": "stream",
     "text": [
      "C:\\Anaconda2\\lib\\site-packages\\sklearn\\model_selection\\_search.py:662: DeprecationWarning: The grid_scores_ attribute was deprecated in version 0.18 in favor of the more elaborate cv_results_ attribute. The grid_scores_ attribute will not be available from 0.20\n",
      "  DeprecationWarning)\n"
     ]
    },
    {
     "data": {
      "text/plain": [
       "([mean: 0.72846, std: 0.02374, params: {'min_samples_split': 2, 'max_depth': 1},\n",
       "  mean: 0.72846, std: 0.02374, params: {'min_samples_split': 4, 'max_depth': 1},\n",
       "  mean: 0.72846, std: 0.02374, params: {'min_samples_split': 6, 'max_depth': 1},\n",
       "  mean: 0.72846, std: 0.02374, params: {'min_samples_split': 8, 'max_depth': 1},\n",
       "  mean: 0.78123, std: 0.02106, params: {'min_samples_split': 2, 'max_depth': 2},\n",
       "  mean: 0.78123, std: 0.02106, params: {'min_samples_split': 4, 'max_depth': 2},\n",
       "  mean: 0.78123, std: 0.02106, params: {'min_samples_split': 6, 'max_depth': 2},\n",
       "  mean: 0.78123, std: 0.02106, params: {'min_samples_split': 8, 'max_depth': 2},\n",
       "  mean: 0.79583, std: 0.02678, params: {'min_samples_split': 2, 'max_depth': 3},\n",
       "  mean: 0.79583, std: 0.02678, params: {'min_samples_split': 4, 'max_depth': 3},\n",
       "  mean: 0.79583, std: 0.02678, params: {'min_samples_split': 6, 'max_depth': 3},\n",
       "  mean: 0.80030, std: 0.02692, params: {'min_samples_split': 8, 'max_depth': 3},\n",
       "  mean: 0.82271, std: 0.01039, params: {'min_samples_split': 2, 'max_depth': 4},\n",
       "  mean: 0.82271, std: 0.01039, params: {'min_samples_split': 4, 'max_depth': 4},\n",
       "  mean: 0.82271, std: 0.01039, params: {'min_samples_split': 6, 'max_depth': 4},\n",
       "  mean: 0.82047, std: 0.01222, params: {'min_samples_split': 8, 'max_depth': 4},\n",
       "  mean: 0.82942, std: 0.01127, params: {'min_samples_split': 2, 'max_depth': 5},\n",
       "  mean: 0.83055, std: 0.01315, params: {'min_samples_split': 4, 'max_depth': 5},\n",
       "  mean: 0.82942, std: 0.01127, params: {'min_samples_split': 6, 'max_depth': 5},\n",
       "  mean: 0.82942, std: 0.01127, params: {'min_samples_split': 8, 'max_depth': 5},\n",
       "  mean: 0.82719, std: 0.01156, params: {'min_samples_split': 2, 'max_depth': 6},\n",
       "  mean: 0.82718, std: 0.01317, params: {'min_samples_split': 4, 'max_depth': 6},\n",
       "  mean: 0.82942, std: 0.01127, params: {'min_samples_split': 6, 'max_depth': 6},\n",
       "  mean: 0.82942, std: 0.01127, params: {'min_samples_split': 8, 'max_depth': 6},\n",
       "  mean: 0.82719, std: 0.01493, params: {'min_samples_split': 2, 'max_depth': 7},\n",
       "  mean: 0.82831, std: 0.01367, params: {'min_samples_split': 4, 'max_depth': 7},\n",
       "  mean: 0.82830, std: 0.01236, params: {'min_samples_split': 6, 'max_depth': 7},\n",
       "  mean: 0.82943, std: 0.01418, params: {'min_samples_split': 8, 'max_depth': 7},\n",
       "  mean: 0.82606, std: 0.01301, params: {'min_samples_split': 2, 'max_depth': 8},\n",
       "  mean: 0.82718, std: 0.01166, params: {'min_samples_split': 4, 'max_depth': 8},\n",
       "  mean: 0.82605, std: 0.01531, params: {'min_samples_split': 6, 'max_depth': 8},\n",
       "  mean: 0.83055, std: 0.01315, params: {'min_samples_split': 8, 'max_depth': 8},\n",
       "  mean: 0.82381, std: 0.01292, params: {'min_samples_split': 2, 'max_depth': 9},\n",
       "  mean: 0.82718, std: 0.01166, params: {'min_samples_split': 4, 'max_depth': 9},\n",
       "  mean: 0.82830, std: 0.01236, params: {'min_samples_split': 6, 'max_depth': 9},\n",
       "  mean: 0.82830, std: 0.01236, params: {'min_samples_split': 8, 'max_depth': 9},\n",
       "  mean: 0.82830, std: 0.01477, params: {'min_samples_split': 2, 'max_depth': 10},\n",
       "  mean: 0.82605, std: 0.00977, params: {'min_samples_split': 4, 'max_depth': 10},\n",
       "  mean: 0.83054, std: 0.01280, params: {'min_samples_split': 6, 'max_depth': 10},\n",
       "  mean: 0.82830, std: 0.01334, params: {'min_samples_split': 8, 'max_depth': 10},\n",
       "  mean: 0.82718, std: 0.01419, params: {'min_samples_split': 2, 'max_depth': 11},\n",
       "  mean: 0.82830, std: 0.00889, params: {'min_samples_split': 4, 'max_depth': 11},\n",
       "  mean: 0.83054, std: 0.01383, params: {'min_samples_split': 6, 'max_depth': 11},\n",
       "  mean: 0.83167, std: 0.00977, params: {'min_samples_split': 8, 'max_depth': 11},\n",
       "  mean: 0.82718, std: 0.01419, params: {'min_samples_split': 2, 'max_depth': 12},\n",
       "  mean: 0.82830, std: 0.00889, params: {'min_samples_split': 4, 'max_depth': 12},\n",
       "  mean: 0.83054, std: 0.01383, params: {'min_samples_split': 6, 'max_depth': 12},\n",
       "  mean: 0.83054, std: 0.01124, params: {'min_samples_split': 8, 'max_depth': 12},\n",
       "  mean: 0.82605, std: 0.01447, params: {'min_samples_split': 2, 'max_depth': 13},\n",
       "  mean: 0.82830, std: 0.00889, params: {'min_samples_split': 4, 'max_depth': 13},\n",
       "  mean: 0.82941, std: 0.01565, params: {'min_samples_split': 6, 'max_depth': 13},\n",
       "  mean: 0.83167, std: 0.00977, params: {'min_samples_split': 8, 'max_depth': 13},\n",
       "  mean: 0.82605, std: 0.01447, params: {'min_samples_split': 2, 'max_depth': 14},\n",
       "  mean: 0.82830, std: 0.00889, params: {'min_samples_split': 4, 'max_depth': 14},\n",
       "  mean: 0.82941, std: 0.01565, params: {'min_samples_split': 6, 'max_depth': 14},\n",
       "  mean: 0.83167, std: 0.00977, params: {'min_samples_split': 8, 'max_depth': 14},\n",
       "  mean: 0.82605, std: 0.01447, params: {'min_samples_split': 2, 'max_depth': 15},\n",
       "  mean: 0.82830, std: 0.00889, params: {'min_samples_split': 4, 'max_depth': 15},\n",
       "  mean: 0.82941, std: 0.01565, params: {'min_samples_split': 6, 'max_depth': 15},\n",
       "  mean: 0.83167, std: 0.00977, params: {'min_samples_split': 8, 'max_depth': 15}],\n",
       " {'max_depth': 11, 'min_samples_split': 8},\n",
       " 0.83166590242454497)"
      ]
     },
     "execution_count": 320,
     "metadata": {},
     "output_type": "execute_result"
    }
   ],
   "source": [
    "gsearch2.grid_scores_, gsearch2.best_params_, gsearch2.best_score_"
   ]
  },
  {
   "cell_type": "markdown",
   "metadata": {
    "collapsed": true
   },
   "source": [
    "+ max_depth=11, min_samples_split=8"
   ]
  },
  {
   "cell_type": "code",
   "execution_count": 319,
   "metadata": {
    "collapsed": false
   },
   "outputs": [
    {
     "data": {
      "text/plain": [
       "GridSearchCV(cv=5, error_score='raise',\n",
       "       estimator=RandomForestClassifier(bootstrap=True, class_weight=None, criterion='gini',\n",
       "            max_depth=None, max_features='sqrt', max_leaf_nodes=None,\n",
       "            min_impurity_split=1e-07, min_samples_leaf=1,\n",
       "            min_samples_split=2, min_weight_fraction_leaf=0.0,\n",
       "            n_estimators=50, n_jobs=1, oob_score=False, random_state=1234,\n",
       "            verbose=0, warm_start=False),\n",
       "       fit_params={}, iid=False, n_jobs=-1,\n",
       "       param_grid={'min_samples_split': [2, 4, 6, 8], 'max_depth': [1, 2, 3, 4, 5, 6, 7, 8, 9, 10, 11, 12, 13, 14, 15]},\n",
       "       pre_dispatch='2*n_jobs', refit=True, return_train_score=True,\n",
       "       scoring='accuracy', verbose=0)"
      ]
     },
     "execution_count": 319,
     "metadata": {},
     "output_type": "execute_result"
    }
   ],
   "source": [
    "param_test2 = {'max_depth':range(1,16,1), 'min_samples_split':range(2,10,2)}\n",
    "gsearch2 = GridSearchCV(\n",
    "    estimator = RandomForestClassifier(n_estimators=50, max_features='sqrt', random_state=1234),\n",
    "    param_grid = param_test2, scoring='accuracy',n_jobs=-1,iid=False, cv=5)\n",
    "gsearch2.fit(titanic[rf_predictors],titanic['Survived'])"
   ]
  },
  {
   "cell_type": "code",
   "execution_count": 320,
   "metadata": {
    "collapsed": false,
    "scrolled": false
   },
   "outputs": [
    {
     "name": "stderr",
     "output_type": "stream",
     "text": [
      "C:\\Anaconda2\\lib\\site-packages\\sklearn\\model_selection\\_search.py:662: DeprecationWarning: The grid_scores_ attribute was deprecated in version 0.18 in favor of the more elaborate cv_results_ attribute. The grid_scores_ attribute will not be available from 0.20\n",
      "  DeprecationWarning)\n"
     ]
    },
    {
     "data": {
      "text/plain": [
       "([mean: 0.72846, std: 0.02374, params: {'min_samples_split': 2, 'max_depth': 1},\n",
       "  mean: 0.72846, std: 0.02374, params: {'min_samples_split': 4, 'max_depth': 1},\n",
       "  mean: 0.72846, std: 0.02374, params: {'min_samples_split': 6, 'max_depth': 1},\n",
       "  mean: 0.72846, std: 0.02374, params: {'min_samples_split': 8, 'max_depth': 1},\n",
       "  mean: 0.78123, std: 0.02106, params: {'min_samples_split': 2, 'max_depth': 2},\n",
       "  mean: 0.78123, std: 0.02106, params: {'min_samples_split': 4, 'max_depth': 2},\n",
       "  mean: 0.78123, std: 0.02106, params: {'min_samples_split': 6, 'max_depth': 2},\n",
       "  mean: 0.78123, std: 0.02106, params: {'min_samples_split': 8, 'max_depth': 2},\n",
       "  mean: 0.79583, std: 0.02678, params: {'min_samples_split': 2, 'max_depth': 3},\n",
       "  mean: 0.79583, std: 0.02678, params: {'min_samples_split': 4, 'max_depth': 3},\n",
       "  mean: 0.79583, std: 0.02678, params: {'min_samples_split': 6, 'max_depth': 3},\n",
       "  mean: 0.80030, std: 0.02692, params: {'min_samples_split': 8, 'max_depth': 3},\n",
       "  mean: 0.82271, std: 0.01039, params: {'min_samples_split': 2, 'max_depth': 4},\n",
       "  mean: 0.82271, std: 0.01039, params: {'min_samples_split': 4, 'max_depth': 4},\n",
       "  mean: 0.82271, std: 0.01039, params: {'min_samples_split': 6, 'max_depth': 4},\n",
       "  mean: 0.82047, std: 0.01222, params: {'min_samples_split': 8, 'max_depth': 4},\n",
       "  mean: 0.82942, std: 0.01127, params: {'min_samples_split': 2, 'max_depth': 5},\n",
       "  mean: 0.83055, std: 0.01315, params: {'min_samples_split': 4, 'max_depth': 5},\n",
       "  mean: 0.82942, std: 0.01127, params: {'min_samples_split': 6, 'max_depth': 5},\n",
       "  mean: 0.82942, std: 0.01127, params: {'min_samples_split': 8, 'max_depth': 5},\n",
       "  mean: 0.82719, std: 0.01156, params: {'min_samples_split': 2, 'max_depth': 6},\n",
       "  mean: 0.82718, std: 0.01317, params: {'min_samples_split': 4, 'max_depth': 6},\n",
       "  mean: 0.82942, std: 0.01127, params: {'min_samples_split': 6, 'max_depth': 6},\n",
       "  mean: 0.82942, std: 0.01127, params: {'min_samples_split': 8, 'max_depth': 6},\n",
       "  mean: 0.82719, std: 0.01493, params: {'min_samples_split': 2, 'max_depth': 7},\n",
       "  mean: 0.82831, std: 0.01367, params: {'min_samples_split': 4, 'max_depth': 7},\n",
       "  mean: 0.82830, std: 0.01236, params: {'min_samples_split': 6, 'max_depth': 7},\n",
       "  mean: 0.82943, std: 0.01418, params: {'min_samples_split': 8, 'max_depth': 7},\n",
       "  mean: 0.82606, std: 0.01301, params: {'min_samples_split': 2, 'max_depth': 8},\n",
       "  mean: 0.82718, std: 0.01166, params: {'min_samples_split': 4, 'max_depth': 8},\n",
       "  mean: 0.82605, std: 0.01531, params: {'min_samples_split': 6, 'max_depth': 8},\n",
       "  mean: 0.83055, std: 0.01315, params: {'min_samples_split': 8, 'max_depth': 8},\n",
       "  mean: 0.82381, std: 0.01292, params: {'min_samples_split': 2, 'max_depth': 9},\n",
       "  mean: 0.82718, std: 0.01166, params: {'min_samples_split': 4, 'max_depth': 9},\n",
       "  mean: 0.82830, std: 0.01236, params: {'min_samples_split': 6, 'max_depth': 9},\n",
       "  mean: 0.82830, std: 0.01236, params: {'min_samples_split': 8, 'max_depth': 9},\n",
       "  mean: 0.82830, std: 0.01477, params: {'min_samples_split': 2, 'max_depth': 10},\n",
       "  mean: 0.82605, std: 0.00977, params: {'min_samples_split': 4, 'max_depth': 10},\n",
       "  mean: 0.83054, std: 0.01280, params: {'min_samples_split': 6, 'max_depth': 10},\n",
       "  mean: 0.82830, std: 0.01334, params: {'min_samples_split': 8, 'max_depth': 10},\n",
       "  mean: 0.82718, std: 0.01419, params: {'min_samples_split': 2, 'max_depth': 11},\n",
       "  mean: 0.82830, std: 0.00889, params: {'min_samples_split': 4, 'max_depth': 11},\n",
       "  mean: 0.83054, std: 0.01383, params: {'min_samples_split': 6, 'max_depth': 11},\n",
       "  mean: 0.83167, std: 0.00977, params: {'min_samples_split': 8, 'max_depth': 11},\n",
       "  mean: 0.82718, std: 0.01419, params: {'min_samples_split': 2, 'max_depth': 12},\n",
       "  mean: 0.82830, std: 0.00889, params: {'min_samples_split': 4, 'max_depth': 12},\n",
       "  mean: 0.83054, std: 0.01383, params: {'min_samples_split': 6, 'max_depth': 12},\n",
       "  mean: 0.83054, std: 0.01124, params: {'min_samples_split': 8, 'max_depth': 12},\n",
       "  mean: 0.82605, std: 0.01447, params: {'min_samples_split': 2, 'max_depth': 13},\n",
       "  mean: 0.82830, std: 0.00889, params: {'min_samples_split': 4, 'max_depth': 13},\n",
       "  mean: 0.82941, std: 0.01565, params: {'min_samples_split': 6, 'max_depth': 13},\n",
       "  mean: 0.83167, std: 0.00977, params: {'min_samples_split': 8, 'max_depth': 13},\n",
       "  mean: 0.82605, std: 0.01447, params: {'min_samples_split': 2, 'max_depth': 14},\n",
       "  mean: 0.82830, std: 0.00889, params: {'min_samples_split': 4, 'max_depth': 14},\n",
       "  mean: 0.82941, std: 0.01565, params: {'min_samples_split': 6, 'max_depth': 14},\n",
       "  mean: 0.83167, std: 0.00977, params: {'min_samples_split': 8, 'max_depth': 14},\n",
       "  mean: 0.82605, std: 0.01447, params: {'min_samples_split': 2, 'max_depth': 15},\n",
       "  mean: 0.82830, std: 0.00889, params: {'min_samples_split': 4, 'max_depth': 15},\n",
       "  mean: 0.82941, std: 0.01565, params: {'min_samples_split': 6, 'max_depth': 15},\n",
       "  mean: 0.83167, std: 0.00977, params: {'min_samples_split': 8, 'max_depth': 15}],\n",
       " {'max_depth': 11, 'min_samples_split': 8},\n",
       " 0.83166590242454497)"
      ]
     },
     "execution_count": 320,
     "metadata": {},
     "output_type": "execute_result"
    }
   ],
   "source": [
    "gsearch2.grid_scores_, gsearch2.best_params_, gsearch2.best_score_"
   ]
  },
  {
   "cell_type": "markdown",
   "metadata": {
    "collapsed": true
   },
   "source": [
    "+ min_samples_leaf=1, min_samples_split=8"
   ]
  },
  {
   "cell_type": "code",
   "execution_count": 323,
   "metadata": {
    "collapsed": false
   },
   "outputs": [
    {
     "data": {
      "text/plain": [
       "GridSearchCV(cv=5, error_score='raise',\n",
       "       estimator=RandomForestClassifier(bootstrap=True, class_weight=None, criterion='gini',\n",
       "            max_depth=11, max_features='sqrt', max_leaf_nodes=None,\n",
       "            min_impurity_split=1e-07, min_samples_leaf=1,\n",
       "            min_samples_split=2, min_weight_fraction_leaf=0.0,\n",
       "            n_estimators=50, n_jobs=1, oob_score=False, random_state=1234,\n",
       "            verbose=0, warm_start=False),\n",
       "       fit_params={}, iid=False, n_jobs=-1,\n",
       "       param_grid={'min_samples_split': [8, 9, 10], 'min_samples_leaf': [1, 2, 3, 4, 5, 6, 7, 8, 9, 10, 11, 12, 13, 14, 15, 16, 17, 18, 19, 20]},\n",
       "       pre_dispatch='2*n_jobs', refit=True, return_train_score=True,\n",
       "       scoring='accuracy', verbose=0)"
      ]
     },
     "execution_count": 323,
     "metadata": {},
     "output_type": "execute_result"
    }
   ],
   "source": [
    "param_test3 = {'min_samples_split':range(8,11,1), 'min_samples_leaf':range(1,21,1)}\n",
    "gsearch3 = GridSearchCV(\n",
    "    estimator = RandomForestClassifier(n_estimators=50, max_depth=11, max_features='sqrt', random_state=1234),\n",
    "    param_grid = param_test3, scoring='accuracy',n_jobs=-1,iid=False, cv=5)\n",
    "gsearch3.fit(titanic[rf_predictors],titanic['Survived'])"
   ]
  },
  {
   "cell_type": "code",
   "execution_count": 324,
   "metadata": {
    "collapsed": false,
    "scrolled": false
   },
   "outputs": [
    {
     "name": "stderr",
     "output_type": "stream",
     "text": [
      "C:\\Anaconda2\\lib\\site-packages\\sklearn\\model_selection\\_search.py:662: DeprecationWarning: The grid_scores_ attribute was deprecated in version 0.18 in favor of the more elaborate cv_results_ attribute. The grid_scores_ attribute will not be available from 0.20\n",
      "  DeprecationWarning)\n"
     ]
    },
    {
     "data": {
      "text/plain": [
       "([mean: 0.83167, std: 0.00977, params: {'min_samples_split': 8, 'min_samples_leaf': 1},\n",
       "  mean: 0.82942, std: 0.01293, params: {'min_samples_split': 9, 'min_samples_leaf': 1},\n",
       "  mean: 0.83166, std: 0.01216, params: {'min_samples_split': 10, 'min_samples_leaf': 1},\n",
       "  mean: 0.83055, std: 0.00930, params: {'min_samples_split': 8, 'min_samples_leaf': 2},\n",
       "  mean: 0.83167, std: 0.00977, params: {'min_samples_split': 9, 'min_samples_leaf': 2},\n",
       "  mean: 0.82942, std: 0.01182, params: {'min_samples_split': 10, 'min_samples_leaf': 2},\n",
       "  mean: 0.83055, std: 0.01103, params: {'min_samples_split': 8, 'min_samples_leaf': 3},\n",
       "  mean: 0.82718, std: 0.01317, params: {'min_samples_split': 9, 'min_samples_leaf': 3},\n",
       "  mean: 0.82718, std: 0.01317, params: {'min_samples_split': 10, 'min_samples_leaf': 3},\n",
       "  mean: 0.82831, std: 0.01109, params: {'min_samples_split': 8, 'min_samples_leaf': 4},\n",
       "  mean: 0.82718, std: 0.01317, params: {'min_samples_split': 9, 'min_samples_leaf': 4},\n",
       "  mean: 0.82831, std: 0.01226, params: {'min_samples_split': 10, 'min_samples_leaf': 4},\n",
       "  mean: 0.82942, std: 0.01127, params: {'min_samples_split': 8, 'min_samples_leaf': 5},\n",
       "  mean: 0.82942, std: 0.01127, params: {'min_samples_split': 9, 'min_samples_leaf': 5},\n",
       "  mean: 0.82942, std: 0.01127, params: {'min_samples_split': 10, 'min_samples_leaf': 5},\n",
       "  mean: 0.82830, std: 0.01236, params: {'min_samples_split': 8, 'min_samples_leaf': 6},\n",
       "  mean: 0.82830, std: 0.01236, params: {'min_samples_split': 9, 'min_samples_leaf': 6},\n",
       "  mean: 0.82830, std: 0.01236, params: {'min_samples_split': 10, 'min_samples_leaf': 6},\n",
       "  mean: 0.82718, std: 0.01059, params: {'min_samples_split': 8, 'min_samples_leaf': 7},\n",
       "  mean: 0.82718, std: 0.01059, params: {'min_samples_split': 9, 'min_samples_leaf': 7},\n",
       "  mean: 0.82718, std: 0.01059, params: {'min_samples_split': 10, 'min_samples_leaf': 7},\n",
       "  mean: 0.82268, std: 0.00529, params: {'min_samples_split': 8, 'min_samples_leaf': 8},\n",
       "  mean: 0.82268, std: 0.00529, params: {'min_samples_split': 9, 'min_samples_leaf': 8},\n",
       "  mean: 0.82268, std: 0.00529, params: {'min_samples_split': 10, 'min_samples_leaf': 8},\n",
       "  mean: 0.81932, std: 0.00689, params: {'min_samples_split': 8, 'min_samples_leaf': 9},\n",
       "  mean: 0.81932, std: 0.00689, params: {'min_samples_split': 9, 'min_samples_leaf': 9},\n",
       "  mean: 0.81932, std: 0.00689, params: {'min_samples_split': 10, 'min_samples_leaf': 9},\n",
       "  mean: 0.82045, std: 0.00648, params: {'min_samples_split': 8, 'min_samples_leaf': 10},\n",
       "  mean: 0.82045, std: 0.00648, params: {'min_samples_split': 9, 'min_samples_leaf': 10},\n",
       "  mean: 0.82045, std: 0.00648, params: {'min_samples_split': 10, 'min_samples_leaf': 10},\n",
       "  mean: 0.82045, std: 0.00543, params: {'min_samples_split': 8, 'min_samples_leaf': 11},\n",
       "  mean: 0.82045, std: 0.00543, params: {'min_samples_split': 9, 'min_samples_leaf': 11},\n",
       "  mean: 0.82045, std: 0.00543, params: {'min_samples_split': 10, 'min_samples_leaf': 11},\n",
       "  mean: 0.83166, std: 0.01613, params: {'min_samples_split': 8, 'min_samples_leaf': 12},\n",
       "  mean: 0.83166, std: 0.01613, params: {'min_samples_split': 9, 'min_samples_leaf': 12},\n",
       "  mean: 0.83166, std: 0.01613, params: {'min_samples_split': 10, 'min_samples_leaf': 12},\n",
       "  mean: 0.82608, std: 0.01117, params: {'min_samples_split': 8, 'min_samples_leaf': 13},\n",
       "  mean: 0.82608, std: 0.01117, params: {'min_samples_split': 9, 'min_samples_leaf': 13},\n",
       "  mean: 0.82608, std: 0.01117, params: {'min_samples_split': 10, 'min_samples_leaf': 13},\n",
       "  mean: 0.82045, std: 0.00543, params: {'min_samples_split': 8, 'min_samples_leaf': 14},\n",
       "  mean: 0.82045, std: 0.00543, params: {'min_samples_split': 9, 'min_samples_leaf': 14},\n",
       "  mean: 0.82045, std: 0.00543, params: {'min_samples_split': 10, 'min_samples_leaf': 14},\n",
       "  mean: 0.82492, std: 0.00815, params: {'min_samples_split': 8, 'min_samples_leaf': 15},\n",
       "  mean: 0.82492, std: 0.00815, params: {'min_samples_split': 9, 'min_samples_leaf': 15},\n",
       "  mean: 0.82492, std: 0.00815, params: {'min_samples_split': 10, 'min_samples_leaf': 15},\n",
       "  mean: 0.81375, std: 0.01927, params: {'min_samples_split': 8, 'min_samples_leaf': 16},\n",
       "  mean: 0.81375, std: 0.01927, params: {'min_samples_split': 9, 'min_samples_leaf': 16},\n",
       "  mean: 0.81375, std: 0.01927, params: {'min_samples_split': 10, 'min_samples_leaf': 16},\n",
       "  mean: 0.81710, std: 0.01292, params: {'min_samples_split': 8, 'min_samples_leaf': 17},\n",
       "  mean: 0.81710, std: 0.01292, params: {'min_samples_split': 9, 'min_samples_leaf': 17},\n",
       "  mean: 0.81710, std: 0.01292, params: {'min_samples_split': 10, 'min_samples_leaf': 17},\n",
       "  mean: 0.81710, std: 0.01292, params: {'min_samples_split': 8, 'min_samples_leaf': 18},\n",
       "  mean: 0.81710, std: 0.01292, params: {'min_samples_split': 9, 'min_samples_leaf': 18},\n",
       "  mean: 0.81710, std: 0.01292, params: {'min_samples_split': 10, 'min_samples_leaf': 18},\n",
       "  mean: 0.81486, std: 0.01257, params: {'min_samples_split': 8, 'min_samples_leaf': 19},\n",
       "  mean: 0.81486, std: 0.01257, params: {'min_samples_split': 9, 'min_samples_leaf': 19},\n",
       "  mean: 0.81486, std: 0.01257, params: {'min_samples_split': 10, 'min_samples_leaf': 19},\n",
       "  mean: 0.81599, std: 0.01324, params: {'min_samples_split': 8, 'min_samples_leaf': 20},\n",
       "  mean: 0.81599, std: 0.01324, params: {'min_samples_split': 9, 'min_samples_leaf': 20},\n",
       "  mean: 0.81599, std: 0.01324, params: {'min_samples_split': 10, 'min_samples_leaf': 20}],\n",
       " {'min_samples_leaf': 1, 'min_samples_split': 8},\n",
       " 0.83166590242454497)"
      ]
     },
     "execution_count": 324,
     "metadata": {},
     "output_type": "execute_result"
    }
   ],
   "source": [
    "gsearch3.grid_scores_, gsearch3.best_params_, gsearch3.best_score_"
   ]
  },
  {
   "cell_type": "markdown",
   "metadata": {
    "collapsed": true
   },
   "source": [
    "+ max_features=4"
   ]
  },
  {
   "cell_type": "code",
   "execution_count": 325,
   "metadata": {
    "collapsed": false
   },
   "outputs": [
    {
     "data": {
      "text/plain": [
       "GridSearchCV(cv=5, error_score='raise',\n",
       "       estimator=RandomForestClassifier(bootstrap=True, class_weight=None, criterion='gini',\n",
       "            max_depth=11, max_features='sqrt', max_leaf_nodes=None,\n",
       "            min_impurity_split=1e-07, min_samples_leaf=1,\n",
       "            min_samples_split=8, min_weight_fraction_leaf=0.0,\n",
       "            n_estimators=50, n_jobs=1, oob_score=False, random_state=1234,\n",
       "            verbose=0, warm_start=False),\n",
       "       fit_params={}, iid=False, n_jobs=-1,\n",
       "       param_grid={'max_features': [1, 2, 3, 4, 5, 6, 7]},\n",
       "       pre_dispatch='2*n_jobs', refit=True, return_train_score=True,\n",
       "       scoring='accuracy', verbose=0)"
      ]
     },
     "execution_count": 325,
     "metadata": {},
     "output_type": "execute_result"
    }
   ],
   "source": [
    "param_test4 = {'max_features':range(1,8,1)}\n",
    "gsearch4 = GridSearchCV(\n",
    "    estimator = RandomForestClassifier(n_estimators=50, max_depth=11, min_samples_leaf=1, min_samples_split=8, max_features='sqrt', random_state=1234),\n",
    "    param_grid = param_test4, scoring='accuracy',n_jobs=-1,iid=False, cv=5)\n",
    "gsearch4.fit(titanic[rf_predictors],titanic['Survived'])"
   ]
  },
  {
   "cell_type": "code",
   "execution_count": 326,
   "metadata": {
    "collapsed": false,
    "scrolled": false
   },
   "outputs": [
    {
     "name": "stderr",
     "output_type": "stream",
     "text": [
      "C:\\Anaconda2\\lib\\site-packages\\sklearn\\model_selection\\_search.py:662: DeprecationWarning: The grid_scores_ attribute was deprecated in version 0.18 in favor of the more elaborate cv_results_ attribute. The grid_scores_ attribute will not be available from 0.20\n",
      "  DeprecationWarning)\n"
     ]
    },
    {
     "data": {
      "text/plain": [
       "([mean: 0.82942, std: 0.01293, params: {'max_features': 1},\n",
       "  mean: 0.83167, std: 0.00977, params: {'max_features': 2},\n",
       "  mean: 0.82942, std: 0.01071, params: {'max_features': 3},\n",
       "  mean: 0.83167, std: 0.01302, params: {'max_features': 4},\n",
       "  mean: 0.82944, std: 0.01270, params: {'max_features': 5},\n",
       "  mean: 0.83055, std: 0.01267, params: {'max_features': 6},\n",
       "  mean: 0.82944, std: 0.01270, params: {'max_features': 7}],\n",
       " {'max_features': 4},\n",
       " 0.83167225042175175)"
      ]
     },
     "execution_count": 326,
     "metadata": {},
     "output_type": "execute_result"
    }
   ],
   "source": [
    "gsearch4.grid_scores_, gsearch4.best_params_, gsearch4.best_score_"
   ]
  },
  {
   "cell_type": "markdown",
   "metadata": {},
   "source": [
    "n_estimators=50, max_depth=11/4, min_samples_split=8/5, min_samples_leaf=1, max_features=4"
   ]
  },
  {
   "cell_type": "code",
   "execution_count": 336,
   "metadata": {
    "collapsed": false
   },
   "outputs": [],
   "source": [
    "rf_tuning = RandomForestClassifier(n_estimators=50, max_depth=11, min_samples_split=8, min_samples_leaf=1, max_features=4, random_state=1234)"
   ]
  },
  {
   "cell_type": "code",
   "execution_count": 337,
   "metadata": {
    "collapsed": true
   },
   "outputs": [],
   "source": [
    "rf_tuning.fit(titanic[rf_predictors], titanic['Survived'])\n",
    "rf_tuning_prediction = rf_tuning.predict(test[rf_predictors])"
   ]
  },
  {
   "cell_type": "code",
   "execution_count": 338,
   "metadata": {
    "collapsed": true
   },
   "outputs": [],
   "source": [
    "rf_tuning_submmison = pd.DataFrame({'PassengerId': test.PassengerId, 'Survived': rf_tuning_prediction})\n",
    "rf_tuning_submmison.to_csv('../result/rf_tuning_prediction.csv', index=None)"
   ]
  },
  {
   "cell_type": "markdown",
   "metadata": {},
   "source": [
    "# 6 过采样"
   ]
  },
  {
   "cell_type": "code",
   "execution_count": 50,
   "metadata": {
    "collapsed": false
   },
   "outputs": [],
   "source": [
    "rf_tuning_classweight = RandomForestClassifier(n_estimators=50, max_depth=11, min_samples_split=8, min_samples_leaf=1, max_features=4,\n",
    "                                   class_weight={0: .5, 1: .5}, random_state=1234)"
   ]
  },
  {
   "cell_type": "code",
   "execution_count": 51,
   "metadata": {
    "collapsed": false,
    "scrolled": false
   },
   "outputs": [
    {
     "name": "stdout",
     "output_type": "stream",
     "text": [
      "CV Score : Mean - 0.8316723 | Std - 0.01302432 | Min - 0.8146067 | Max - 0.8531073\n"
     ]
    },
    {
     "data": {
      "image/png": "[encoded data removed]",
      "text/plain": [
       "<matplotlib.figure.Figure at 0xb9e0748>"
      ]
     },
     "metadata": {},
     "output_type": "display_data"
    }
   ],
   "source": [
    "modelfit(rf_tuning_classweight, titanic, titanic['Survived'], rf_predictors)"
   ]
  },
  {
   "cell_type": "code",
   "execution_count": 46,
   "metadata": {
    "collapsed": false
   },
   "outputs": [],
   "source": [
    "rf_tuning_classweight.fit(titanic[rf_predictors], titanic['Survived'])\n",
    "rf_tuning_classweight_prediction = rf_tuning_classweight.predict(test[rf_predictors])"
   ]
  },
  {
   "cell_type": "code",
   "execution_count": 47,
   "metadata": {
    "collapsed": false
   },
   "outputs": [],
   "source": [
    "rf_tuning_classweight_submmison = pd.DataFrame({'PassengerId': test.PassengerId, 'Survived': rf_tuning_classweight_prediction})\n",
    "rf_tuning_classweight_submmison.to_csv('../result/rf_tuning_classweight_prediction.csv', index=None)"
   ]
  }
 ],
 "metadata": {
  "kernelspec": {
   "display_name": "Python 2",
   "language": "python",
   "name": "python2"
  },
  "language_info": {
   "codemirror_mode": {
    "name": "ipython",
    "version": 2
   },
   "file_extension": ".py",
   "mimetype": "text/x-python",
   "name": "python",
   "nbconvert_exporter": "python",
   "pygments_lexer": "ipython2",
   "version": "2.7.11"
  }
 },
 "nbformat": 4,
 "nbformat_minor": 0
}
